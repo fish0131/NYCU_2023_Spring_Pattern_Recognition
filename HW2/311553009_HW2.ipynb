{
 "cells": [
  {
   "cell_type": "code",
   "execution_count": 754,
   "metadata": {
    "id": "BMH5lm_PrhdD"
   },
   "outputs": [],
   "source": [
    "# Only these three packages are allowed\n",
    "import numpy as np\n",
    "import pandas as pd\n",
    "import matplotlib.pyplot as plt"
   ]
  },
  {
   "cell_type": "code",
   "execution_count": 74,
   "metadata": {
    "id": "0FQ7Z945rnF5"
   },
   "outputs": [],
   "source": [
    "class FLD:\n",
    "    def __init__(self):\n",
    "        \"\"\"\n",
    "            You can add/change any variables/methods to meet your need.\n",
    "        \"\"\"\n",
    "        self.mean_vectors = None\n",
    "        self.sw = None\n",
    "        self.sb = None\n",
    "        self.w = None\n",
    "        self.slope = None\n",
    "\n",
    "    def fit(self, X, y):\n",
    "        \n",
    "        class_labels = np.unique(y)\n",
    "        num_features = X.shape[1]\n",
    "            \n",
    "        # Calculate mean vectors for each class\n",
    "        self.mean_vectors = []\n",
    "        for i in np.unique(y):\n",
    "            self.mean_vectors.append(np.mean(X[y == i], axis=0))\n",
    "        self.mean_vectors = np.array(self.mean_vectors)\n",
    "\n",
    "        # Within-class scatter matrix\n",
    "        self.sw = np.zeros((num_features, num_features))\n",
    "        for label, mv in zip(class_labels, self.mean_vectors):\n",
    "            class_sc_mat = np.zeros((num_features, num_features))\n",
    "            for row in X[y == label]:\n",
    "                row, mv = row.reshape(num_features, 1), mv.reshape(num_features, 1)\n",
    "                class_sc_mat += (row - mv).dot((row - mv).T)\n",
    "            self.sw += class_sc_mat\n",
    "\n",
    "        # Between-class scatter matrix\n",
    "        overall_mean = np.mean(X, axis=0)\n",
    "        self.sb = np.zeros((num_features, num_features))\n",
    "        for i, mean_vec in enumerate(self.mean_vectors):\n",
    "            n = X[y==i,:].shape[0]\n",
    "            mean_vec = mean_vec.reshape(num_features, 1)\n",
    "            overall_mean = overall_mean.reshape(num_features, 1)\n",
    "            self.sb += n * (mean_vec - overall_mean).dot((mean_vec - overall_mean).T)\n",
    "\n",
    "        # Find the eigenvectors and eigenvalues of (sW)^-1 * sB\n",
    "        eig_vals, eig_vecs = np.linalg.eig(np.linalg.inv(self.sw).dot(self.sb))\n",
    "        sorted_idx = np.argsort(eig_vals)[::-1]\n",
    "        eig_vals, eig_vecs = eig_vals[sorted_idx], eig_vecs[:, sorted_idx]\n",
    "\n",
    "        # Project the data onto the subspace spanned by the top eigenvectors\n",
    "        self.w = eig_vecs[:, :1]\n",
    "        \n",
    "\n",
    "    def predict_using_class_mean(self, X, y, X_test):\n",
    "        \n",
    "        class_labels = np.unique(y)\n",
    "        mean_vectors = []\n",
    "        for label in class_labels:\n",
    "            mean_vectors.append(np.mean(X[y == label], axis=0))\n",
    "\n",
    "        y_pred = []\n",
    "        for x in X_test:\n",
    "            distances = []\n",
    "            for mv in mean_vectors:\n",
    "                distances.append(np.linalg.norm(x - mv))\n",
    "            y_pred.append(class_labels[np.argmin(distances)])\n",
    "\n",
    "        return np.array(y_pred)\n",
    "        \n",
    "\n",
    "    def predict_using_knn(self, X, y, X_test, k=1):\n",
    "        \n",
    "        y_pred = []\n",
    "        for x in X_test:\n",
    "            distances = []\n",
    "            for x_train in X:\n",
    "                distances.append(np.linalg.norm(x - x_train))\n",
    "            nearest_labels = y[np.argsort(distances)[:k]]\n",
    "            y_pred.append(np.bincount(nearest_labels).argmax())\n",
    "\n",
    "        return np.array(y_pred)\n",
    "\n",
    "    def show_confusion_matrix(self, y, y_pred):\n",
    "        \n",
    "        n_classes = len(np.unique(y))\n",
    "        \n",
    "        cm = np.zeros((n_classes, n_classes), dtype=int)\n",
    "        for i in range(y.shape[0]):\n",
    "            true_class = y[i]\n",
    "            pred_class = y_pred[i]\n",
    "            cm[true_class][pred_class] += 1\n",
    "        return cm\n",
    "    \n",
    "    def plot_projection(self, X, y):\n",
    "        \n",
    "        # X_proj = X.dot(self.w)\n",
    "        # X_proj = np.dot(np.dot(X, self.w) / np.linalg.norm(self.w)**2, self.w.T)\n",
    "        X_proj = (np.dot(X, self.w) * self.w.T) / np.dot(self.w.T, self.w)\n",
    "        \n",
    "        # y = mx+ b\n",
    "        # point = (w0, w1)\n",
    "        slope = self.w[1][0]/self.w[0][0] # m\n",
    "        intercept = self.w[1][0] - (slope*self.w[0][0]) # b\n",
    "        \n",
    "        # projection line\n",
    "        plt.axline(xy1=(0, intercept), slope=slope, c='black')\n",
    "        \n",
    "        colors = ['r', 'b', 'g']\n",
    "        \n",
    "        # project train data to the projection line with dashed line\n",
    "        for idx, pj in enumerate(X_proj):\n",
    "            if y[idx] == 0:\n",
    "                c = 'r'\n",
    "            elif y[idx] == 1:\n",
    "                c = 'b'\n",
    "            else:\n",
    "                c = 'g'\n",
    "            plt.plot([pj[0], X[idx, 0]], [pj[1], X[idx, 1]], ls=':', alpha=0.2, c=c)\n",
    "        \n",
    "        # projected point on the line\n",
    "        \n",
    "        # train data scatter plot\n",
    "        for point, pred in zip(X, y):\n",
    "            plt.scatter(point[0], point[1], color=colors[pred], alpha=1.0, s=5)\n",
    "            proj = (np.dot(point, self.w) * self.w) / np.dot(self.w.T, self.w)\n",
    "            plt.scatter(proj[0], proj[1], color=colors[pred], alpha=1.0, s=5)\n",
    "\n",
    "        plt.title('Projection line: slope = %.8f, intercept = %.2f' %(slope, intercept))\n",
    "        plt.xlim((-13, 4))\n",
    "        plt.ylim((-12, 12))\n",
    "        plt.show()\n",
    "        \n",
    "\n",
    "    def accuracy_score(self, y, y_pred):\n",
    "        return np.mean(y_pred == y)"
   ]
  },
  {
   "cell_type": "code",
   "execution_count": 113,
   "metadata": {
    "id": "fNjwTeUD2UAV"
   },
   "outputs": [],
   "source": [
    "class MultiClassLogisticRegression:\n",
    "    \n",
    "    def __init__(self):\n",
    "        \n",
    "        self.epoch = []\n",
    "        self.train_loss = []\n",
    "        self.weights = None\n",
    "\n",
    "    def fit(self, X, y, batch_size=16, lr=0.001, epochs=100):\n",
    "        \n",
    "        n_samples, n_features = X.shape\n",
    "        n_classes = len(np.unique(y))\n",
    "        self.weights = np.zeros((n_features, n_classes))\n",
    "        \n",
    "        for i in range(epochs):\n",
    "            \n",
    "            epoch_loss = 0.0\n",
    "            \n",
    "            for j in range(0, n_samples, batch_size):\n",
    "                \n",
    "                X_batch = X[j:j+batch_size]\n",
    "                y_batch = y[j:j+batch_size]\n",
    "                \n",
    "                scores = np.dot(X_batch, self.weights)\n",
    "                probs = self.softmax(scores)\n",
    "                loss = self.cross_entropy(y_batch, probs)\n",
    "                \n",
    "                grad = np.dot(X_batch.T, probs - self.one_hot(y_batch, n_classes)) / batch_size\n",
    "                self.weights -= lr * grad\n",
    "                \n",
    "                epoch_loss += loss\n",
    "            \n",
    "            self.epoch.append(i)\n",
    "            self.train_loss.append(epoch_loss / n_samples)\n",
    "            \n",
    "        return self\n",
    "\n",
    "    def predict(self, X):\n",
    "        scores = np.dot(X, self.weights)\n",
    "        return np.argmax(scores, axis=1)\n",
    "\n",
    "    def evaluate(self, X, y):\n",
    "        y_pred = self.predict(X)\n",
    "        return self.accuracy_score(y, y_pred)\n",
    "\n",
    "    def softmax(self, z):\n",
    "        exp_scores = np.exp(z - np.max(z, axis=1, keepdims=True))\n",
    "        return exp_scores / np.sum(exp_scores, axis=1, keepdims=True)\n",
    "\n",
    "    def cross_entropy(self, y, probs):\n",
    "        return -np.mean(np.log(probs[np.arange(len(y)), y]))\n",
    "\n",
    "    def accuracy_score(self, y, y_pred):\n",
    "        return np.mean(y == y_pred)\n",
    "\n",
    "    def show_confusion_matrix(self, X, y):\n",
    "        y_pred = self.predict(X)\n",
    "        cm = np.zeros((len(np.unique(y)), len(np.unique(y_pred))))\n",
    "        for i in range(len(y)):\n",
    "            cm[y[i], y_pred[i]] += 1\n",
    "        return cm\n",
    "    \n",
    "    def one_hot(self, y, n_classes):\n",
    "        return np.eye(n_classes)[y]\n",
    "    \n",
    "    def plot_curve(self):\n",
    "        # self.epoch and self.train_loss may be helpful here. \n",
    "        \n",
    "        plt.plot(self.epoch, self.train_loss, color = 'blue', linewidth = '1', label='Train CE loss')\n",
    "        plt.xlabel('epoch')\n",
    "        plt.ylabel('CE Loss')\n",
    "        plt.title('Training Loss')\n",
    "        plt.legend()\n",
    "        plt.show()"
   ]
  },
  {
   "cell_type": "markdown",
   "metadata": {
    "id": "tW-wMhSw8fT8"
   },
   "source": [
    "# Prepare data for Q1 ~ Q12"
   ]
  },
  {
   "cell_type": "code",
   "execution_count": 374,
   "metadata": {
    "id": "k43aGfaQ7TsP"
   },
   "outputs": [],
   "source": [
    "df_train = pd.DataFrame(pd.read_csv(\"./PR_HW2_blob_train.csv\"))\n",
    "df_test  = pd.DataFrame(pd.read_csv(\"./PR_HW2_blob_test.csv\"))"
   ]
  },
  {
   "cell_type": "code",
   "execution_count": 375,
   "metadata": {
    "id": "2RqHvQCu76Yn"
   },
   "outputs": [
    {
     "name": "stdout",
     "output_type": "stream",
     "text": [
      "X_train (1000, 2)\n",
      "y_train (1000,)\n",
      "X_test (1000, 2)\n",
      "y_test (1000,)\n"
     ]
    }
   ],
   "source": [
    "X_train = df_train[['Feature1', 'Feature2']].to_numpy()\n",
    "y_train = df_train[['Target']].to_numpy().ravel()\n",
    "\n",
    "X_test = df_test[['Feature1', 'Feature2']].to_numpy()\n",
    "y_test = df_test[['Target']].to_numpy().ravel()\n",
    "\n",
    "print(\"X_train\", X_train.shape)\n",
    "print(\"y_train\", y_train.shape)\n",
    "print(\"X_test\",  X_test.shape)\n",
    "print(\"y_test\",  y_test.shape)"
   ]
  },
  {
   "cell_type": "markdown",
   "metadata": {
    "id": "E_HKrHzE8_Sy"
   },
   "source": [
    "# MultiClass Logistic Regression"
   ]
  },
  {
   "cell_type": "code",
   "execution_count": 975,
   "metadata": {},
   "outputs": [],
   "source": [
    "x_train_norm = (X_train - np.min(X_train)) / (np.max(X_train) - np.min(X_train))\n",
    "x_train_std = (X_train - np.average(X_train)) / (np.std(X_train))\n",
    "\n",
    "x_test_norm = (X_test - np.min(X_test)) / (np.max(X_test) - np.min(X_test))\n",
    "x_test_std = (X_test - np.average(X_test)) / (np.std(X_test))"
   ]
  },
  {
   "cell_type": "code",
   "execution_count": 1047,
   "metadata": {
    "id": "xN1uUlEC9FqA"
   },
   "outputs": [
    {
     "data": {
      "text/plain": [
       "<__main__.MultiClassLogisticRegression at 0x1df38285278>"
      ]
     },
     "execution_count": 1047,
     "metadata": {},
     "output_type": "execute_result"
    }
   ],
   "source": [
    "# For Q1\n",
    "lr = 1e-05\n",
    "batch_size = 1 \n",
    "epoch = 8000 \n",
    "\n",
    "logistic_reg = MultiClassLogisticRegression()\n",
    "logistic_reg.fit(X_train, y_train, lr=lr, batch_size=batch_size, epochs=epoch)"
   ]
  },
  {
   "cell_type": "code",
   "execution_count": 1048,
   "metadata": {
    "id": "R_Y8kIlQ9Jcz"
   },
   "outputs": [
    {
     "name": "stdout",
     "output_type": "stream",
     "text": [
      "Training acc:  0.893\n"
     ]
    }
   ],
   "source": [
    "# For Q2\n",
    "print('Training acc: ', logistic_reg.evaluate(X_train, y_train))"
   ]
  },
  {
   "cell_type": "code",
   "execution_count": 1049,
   "metadata": {
    "id": "TzqioRVD9Jgn"
   },
   "outputs": [
    {
     "name": "stdout",
     "output_type": "stream",
     "text": [
      "Testing acc:  0.883\n"
     ]
    }
   ],
   "source": [
    "# For Q3\n",
    "print('Testing acc: ', logistic_reg.evaluate(X_test, y_test))"
   ]
  },
  {
   "cell_type": "code",
   "execution_count": 1050,
   "metadata": {
    "id": "B_BSVWmM9JkX"
   },
   "outputs": [
    {
     "data": {
      "image/png": "[encoded data removed]",
      "text/plain": [
       "<Figure size 432x288 with 1 Axes>"
      ]
     },
     "metadata": {},
     "output_type": "display_data"
    }
   ],
   "source": [
    "# For Q4\n",
    "logistic_reg.plot_curve()"
   ]
  },
  {
   "cell_type": "code",
   "execution_count": 1051,
   "metadata": {
    "id": "r8tAlAPc9JoP"
   },
   "outputs": [
    {
     "data": {
      "text/plain": [
       "array([[283.,   0.,  57.],\n",
       "       [  0., 333.,   0.],\n",
       "       [ 60.,   0., 267.]])"
      ]
     },
     "execution_count": 1051,
     "metadata": {},
     "output_type": "execute_result"
    }
   ],
   "source": [
    "# For Q5\n",
    "logistic_reg.show_confusion_matrix(X_test, y_test)"
   ]
  },
  {
   "cell_type": "markdown",
   "metadata": {
    "id": "njoLZK84-sv3"
   },
   "source": [
    "# Fisher's Linear Discriminant Analysis"
   ]
  },
  {
   "cell_type": "code",
   "execution_count": 75,
   "metadata": {
    "id": "i-uhvrbe2mNe"
   },
   "outputs": [],
   "source": [
    "fld = FLD()\n",
    "\n",
    "fld.fit(X_train, y_train)"
   ]
  },
  {
   "cell_type": "code",
   "execution_count": 76,
   "metadata": {
    "id": "t95-qsEl2nl_"
   },
   "outputs": [
    {
     "name": "stdout",
     "output_type": "stream",
     "text": [
      "Class mean vector:  [[-4.17505764  6.35526804]\n",
      " [-9.43385176 -4.87830741]\n",
      " [-2.54454008  7.53144179]]\n"
     ]
    }
   ],
   "source": [
    "# For Q6\n",
    "print(\"Class mean vector: \", fld.mean_vectors)"
   ]
  },
  {
   "cell_type": "code",
   "execution_count": 77,
   "metadata": {
    "id": "czRrdHxV2olM"
   },
   "outputs": [
    {
     "name": "stdout",
     "output_type": "stream",
     "text": [
      "Within-class scatter matrix SW:  [[1052.70745046  -12.5828441 ]\n",
      " [ -12.5828441   971.29686189]]\n"
     ]
    }
   ],
   "source": [
    "# For Q7\n",
    "print(\"Within-class scatter matrix SW: \", fld.sw)"
   ]
  },
  {
   "cell_type": "code",
   "execution_count": 78,
   "metadata": {
    "id": "oETHjp4Y2oqg"
   },
   "outputs": [
    {
     "name": "stdout",
     "output_type": "stream",
     "text": [
      "Between-class scatter matrix SB:  [[ 8689.12907035 16344.86572983]\n",
      " [16344.86572983 31372.93949414]]\n"
     ]
    }
   ],
   "source": [
    "# For Q8\n",
    "print(\"Between-class scatter matrix SB: \", fld.sb)"
   ]
  },
  {
   "cell_type": "code",
   "execution_count": 79,
   "metadata": {
    "id": "dRytOEMl2otd"
   },
   "outputs": [
    {
     "name": "stdout",
     "output_type": "stream",
     "text": [
      "W:  [[-0.44115384]\n",
      " [-0.8974315 ]]\n"
     ]
    }
   ],
   "source": [
    "# For Q9\n",
    "print(\"W: \", fld.w)"
   ]
  },
  {
   "cell_type": "code",
   "execution_count": 80,
   "metadata": {
    "id": "Q9XMtITV2owM"
   },
   "outputs": [
    {
     "name": "stdout",
     "output_type": "stream",
     "text": [
      "FLD using class mean, accuracy:  0.886\n"
     ]
    },
    {
     "data": {
      "text/plain": [
       "array([[286,   0,  54],\n",
       "       [  0, 333,   0],\n",
       "       [ 60,   0, 267]])"
      ]
     },
     "execution_count": 80,
     "metadata": {},
     "output_type": "execute_result"
    }
   ],
   "source": [
    "# For Q10\n",
    "y_pred = fld.predict_using_class_mean(X_train, y_train, X_test)\n",
    "print(\"FLD using class mean, accuracy: \", fld.accuracy_score(y_test, y_pred))\n",
    "\n",
    "fld.show_confusion_matrix(y_test, y_pred)"
   ]
  },
  {
   "cell_type": "code",
   "execution_count": 550,
   "metadata": {
    "id": "7mmAB2BZ2oy5"
   },
   "outputs": [
    {
     "name": "stdout",
     "output_type": "stream",
     "text": [
      "FLD using knn (k=1), accuracy:  0.839\n",
      "FLD using knn (k=2), accuracy:  0.846\n",
      "FLD using knn (k=3), accuracy:  0.878\n",
      "FLD using knn (k=4), accuracy:  0.876\n",
      "FLD using knn (k=5), accuracy:  0.878\n"
     ]
    }
   ],
   "source": [
    "# For Q11\n",
    "y_pred_k1 = fld.predict_using_knn(X_train, y_train, X_test, k=1)\n",
    "print(\"FLD using knn (k=1), accuracy: \", fld.accuracy_score(y_test, y_pred_k1))\n",
    "\n",
    "y_pred_k2 = fld.predict_using_knn(X_train, y_train, X_test, k=2)\n",
    "print(\"FLD using knn (k=2), accuracy: \", fld.accuracy_score(y_test, y_pred_k2))\n",
    "\n",
    "y_pred_k3 = fld.predict_using_knn(X_train, y_train, X_test, k=3)\n",
    "print(\"FLD using knn (k=3), accuracy: \", fld.accuracy_score(y_test, y_pred_k3))\n",
    "\n",
    "y_pred_k4 = fld.predict_using_knn(X_train, y_train, X_test, k=4)\n",
    "print(\"FLD using knn (k=4), accuracy: \", fld.accuracy_score(y_test, y_pred_k4))\n",
    "\n",
    "y_pred_k5 = fld.predict_using_knn(X_train, y_train, X_test, k=5)\n",
    "print(\"FLD using knn (k=5), accuracy: \", fld.accuracy_score(y_test, y_pred_k5))"
   ]
  },
  {
   "cell_type": "code",
   "execution_count": 81,
   "metadata": {
    "id": "uAaGRQkg2o1e"
   },
   "outputs": [
    {
     "data": {
      "image/png": "[encoded data removed]",
      "text/plain": [
       "<Figure size 640x480 with 1 Axes>"
      ]
     },
     "metadata": {},
     "output_type": "display_data"
    }
   ],
   "source": [
    "# For Q12, using only training data\n",
    "fld.plot_projection(X_train, y_train)"
   ]
  },
  {
   "cell_type": "markdown",
   "metadata": {
    "id": "PDeFV2_uAoL_"
   },
   "source": [
    "# Train your own model on provided dataset.\n",
    "You can only using 1) **Fisher's Linear Discriminant** or 2) **Logistic Regression** that you have implemented above."
   ]
  },
  {
   "cell_type": "code",
   "execution_count": 161,
   "metadata": {},
   "outputs": [],
   "source": [
    "class MultiClassLogisticRegression:\n",
    "    \n",
    "    def __init__(self):\n",
    "        \n",
    "        self.epoch = []\n",
    "        self.train_loss = []\n",
    "        self.weights = None\n",
    "\n",
    "    def fit(self, X, y, batch_size=16, lr=0.001, epochs=100):\n",
    "        \n",
    "        n_samples, n_features = X.shape\n",
    "        n_classes = len(np.unique(y))\n",
    "        self.weights = np.zeros((n_features, n_classes))\n",
    "\n",
    "        # shuffle the data\n",
    "        shuffle_indices = np.random.permutation(len(X))\n",
    "        X = X[shuffle_indices]\n",
    "        y = y[shuffle_indices]\n",
    "        \n",
    "        for i in range(epochs):\n",
    "            \n",
    "            epoch_loss = 0.0\n",
    "            \n",
    "            for j in range(0, n_samples, batch_size):\n",
    "                \n",
    "                X_batch = X[j:j+batch_size]\n",
    "                y_batch = y[j:j+batch_size]\n",
    "                \n",
    "                scores = np.dot(X_batch, self.weights)\n",
    "                probs = self.softmax(scores)\n",
    "                loss = self.cross_entropy(y_batch, probs)\n",
    "                \n",
    "                grad = np.dot(X_batch.T, probs - self.one_hot(y_batch, n_classes)) / batch_size\n",
    "                self.weights -= lr * grad\n",
    "                \n",
    "                epoch_loss += loss\n",
    "            \n",
    "            self.epoch.append(i)\n",
    "            self.train_loss.append(epoch_loss / n_samples)\n",
    "            \n",
    "        return self\n",
    "\n",
    "    def predict(self, X):\n",
    "        scores = np.dot(X, self.weights)\n",
    "        return np.argmax(scores, axis=1)\n",
    "\n",
    "    def evaluate(self, X, y):\n",
    "        y_pred = self.predict(X)\n",
    "        return self.accuracy_score(y, y_pred)\n",
    "\n",
    "    def softmax(self, z):\n",
    "        exp_scores = np.exp(z - np.max(z, axis=1, keepdims=True))\n",
    "        return exp_scores / np.sum(exp_scores, axis=1, keepdims=True)\n",
    "\n",
    "    def cross_entropy(self, y, probs):\n",
    "        return -np.mean(np.log(probs[np.arange(len(y)), y]))\n",
    "\n",
    "    def accuracy_score(self, y, y_pred):\n",
    "        return np.mean(y == y_pred)\n",
    "\n",
    "    def show_confusion_matrix(self, X, y):\n",
    "        y_pred = self.predict(X)\n",
    "        cm = np.zeros((len(np.unique(y)), len(np.unique(y_pred))))\n",
    "        for i in range(len(y)):\n",
    "            cm[y[i], y_pred[i]] += 1\n",
    "        return cm\n",
    "    \n",
    "    def one_hot(self, y, n_classes):\n",
    "        return np.eye(n_classes)[y]\n",
    "    \n",
    "    def plot_curve(self):\n",
    "        # self.epoch and self.train_loss may be helpful here. \n",
    "        \n",
    "        plt.plot(self.epoch, self.train_loss, color = 'blue', linewidth = '1', label='Train CE loss')\n",
    "        plt.xlabel('epoch')\n",
    "        plt.ylabel('CE Loss')\n",
    "        plt.title('Training Loss')\n",
    "        plt.legend()\n",
    "        plt.show()"
   ]
  },
  {
   "cell_type": "code",
   "execution_count": 135,
   "metadata": {
    "id": "0GkkThFyBTN3"
   },
   "outputs": [],
   "source": [
    "df_train = pd.DataFrame(pd.read_csv(\"./PR_HW2_train.csv\"))\n",
    "df_val   = pd.DataFrame(pd.read_csv(\"./PR_HW2_val.csv\"))\n",
    "df_test  = pd.DataFrame(pd.read_csv(\"./PR_HW2_test.csv\"))"
   ]
  },
  {
   "cell_type": "code",
   "execution_count": 136,
   "metadata": {
    "id": "6Si9iL-0BWQS"
   },
   "outputs": [
    {
     "data": {
      "text/html": [
       "<div>\n",
       "<style scoped>\n",
       "    .dataframe tbody tr th:only-of-type {\n",
       "        vertical-align: middle;\n",
       "    }\n",
       "\n",
       "    .dataframe tbody tr th {\n",
       "        vertical-align: top;\n",
       "    }\n",
       "\n",
       "    .dataframe thead th {\n",
       "        text-align: right;\n",
       "    }\n",
       "</style>\n",
       "<table border=\"1\" class=\"dataframe\">\n",
       "  <thead>\n",
       "    <tr style=\"text-align: right;\">\n",
       "      <th></th>\n",
       "      <th>Feature1</th>\n",
       "      <th>Feature2</th>\n",
       "      <th>Feature3</th>\n",
       "      <th>Feature4</th>\n",
       "      <th>Target</th>\n",
       "    </tr>\n",
       "  </thead>\n",
       "  <tbody>\n",
       "    <tr>\n",
       "      <th>0</th>\n",
       "      <td>0.00668</td>\n",
       "      <td>0.00192</td>\n",
       "      <td>0.682</td>\n",
       "      <td>0.996</td>\n",
       "      <td>2.0</td>\n",
       "    </tr>\n",
       "    <tr>\n",
       "      <th>1</th>\n",
       "      <td>0.00680</td>\n",
       "      <td>0.00106</td>\n",
       "      <td>0.503</td>\n",
       "      <td>0.996</td>\n",
       "      <td>1.0</td>\n",
       "    </tr>\n",
       "    <tr>\n",
       "      <th>2</th>\n",
       "      <td>0.00742</td>\n",
       "      <td>0.00106</td>\n",
       "      <td>0.482</td>\n",
       "      <td>0.991</td>\n",
       "      <td>1.0</td>\n",
       "    </tr>\n",
       "    <tr>\n",
       "      <th>3</th>\n",
       "      <td>0.00685</td>\n",
       "      <td>0.00178</td>\n",
       "      <td>0.650</td>\n",
       "      <td>0.998</td>\n",
       "      <td>2.0</td>\n",
       "    </tr>\n",
       "    <tr>\n",
       "      <th>4</th>\n",
       "      <td>0.00680</td>\n",
       "      <td>0.00163</td>\n",
       "      <td>0.623</td>\n",
       "      <td>0.996</td>\n",
       "      <td>2.0</td>\n",
       "    </tr>\n",
       "  </tbody>\n",
       "</table>\n",
       "</div>"
      ],
      "text/plain": [
       "   Feature1  Feature2  Feature3  Feature4  Target\n",
       "0   0.00668   0.00192     0.682     0.996     2.0\n",
       "1   0.00680   0.00106     0.503     0.996     1.0\n",
       "2   0.00742   0.00106     0.482     0.991     1.0\n",
       "3   0.00685   0.00178     0.650     0.998     2.0\n",
       "4   0.00680   0.00163     0.623     0.996     2.0"
      ]
     },
     "execution_count": 136,
     "metadata": {},
     "output_type": "execute_result"
    }
   ],
   "source": [
    "df_train.head()"
   ]
  },
  {
   "cell_type": "code",
   "execution_count": 137,
   "metadata": {
    "id": "qw1B1bIkBdN4"
   },
   "outputs": [
    {
     "data": {
      "text/html": [
       "<div>\n",
       "<style scoped>\n",
       "    .dataframe tbody tr th:only-of-type {\n",
       "        vertical-align: middle;\n",
       "    }\n",
       "\n",
       "    .dataframe tbody tr th {\n",
       "        vertical-align: top;\n",
       "    }\n",
       "\n",
       "    .dataframe thead th {\n",
       "        text-align: right;\n",
       "    }\n",
       "</style>\n",
       "<table border=\"1\" class=\"dataframe\">\n",
       "  <thead>\n",
       "    <tr style=\"text-align: right;\">\n",
       "      <th></th>\n",
       "      <th>Feature1</th>\n",
       "      <th>Feature2</th>\n",
       "      <th>Feature3</th>\n",
       "      <th>Feature4</th>\n",
       "      <th>Target</th>\n",
       "    </tr>\n",
       "  </thead>\n",
       "  <tbody>\n",
       "    <tr>\n",
       "      <th>0</th>\n",
       "      <td>0.00699</td>\n",
       "      <td>0.000877</td>\n",
       "      <td>0.451</td>\n",
       "      <td>0.994</td>\n",
       "      <td>NaN</td>\n",
       "    </tr>\n",
       "    <tr>\n",
       "      <th>1</th>\n",
       "      <td>0.00736</td>\n",
       "      <td>0.001370</td>\n",
       "      <td>0.549</td>\n",
       "      <td>0.998</td>\n",
       "      <td>NaN</td>\n",
       "    </tr>\n",
       "    <tr>\n",
       "      <th>2</th>\n",
       "      <td>0.00687</td>\n",
       "      <td>0.001420</td>\n",
       "      <td>0.580</td>\n",
       "      <td>0.992</td>\n",
       "      <td>NaN</td>\n",
       "    </tr>\n",
       "    <tr>\n",
       "      <th>3</th>\n",
       "      <td>0.00752</td>\n",
       "      <td>0.002520</td>\n",
       "      <td>0.737</td>\n",
       "      <td>0.996</td>\n",
       "      <td>NaN</td>\n",
       "    </tr>\n",
       "    <tr>\n",
       "      <th>4</th>\n",
       "      <td>0.00685</td>\n",
       "      <td>0.000910</td>\n",
       "      <td>0.464</td>\n",
       "      <td>0.992</td>\n",
       "      <td>NaN</td>\n",
       "    </tr>\n",
       "  </tbody>\n",
       "</table>\n",
       "</div>"
      ],
      "text/plain": [
       "   Feature1  Feature2  Feature3  Feature4  Target\n",
       "0   0.00699  0.000877     0.451     0.994     NaN\n",
       "1   0.00736  0.001370     0.549     0.998     NaN\n",
       "2   0.00687  0.001420     0.580     0.992     NaN\n",
       "3   0.00752  0.002520     0.737     0.996     NaN\n",
       "4   0.00685  0.000910     0.464     0.992     NaN"
      ]
     },
     "execution_count": 137,
     "metadata": {},
     "output_type": "execute_result"
    }
   ],
   "source": [
    "df_test.head()"
   ]
  },
  {
   "cell_type": "code",
   "execution_count": 162,
   "metadata": {
    "id": "tDeQjZsuDagp"
   },
   "outputs": [
    {
     "name": "stdout",
     "output_type": "stream",
     "text": [
      "             Feature1  Feature2  Feature3  Feature4  Target\n",
      "Target                                                     \n",
      "0.0    1556   0.00768   0.00224     0.688     0.999     0.0\n",
      "       1308   0.00785   0.00246     0.713     0.997     0.0\n",
      "       1441   0.00741   0.00175     0.619     0.993     0.0\n",
      "       467    0.00735   0.00211     0.682     0.998     0.0\n",
      "       1620   0.00881   0.00198     0.604     0.994     0.0\n"
     ]
    }
   ],
   "source": [
    "# Data processing\n",
    "\n",
    "# Refer to section \"Prepare data for Q1 ~ Q12\"\n",
    "\n",
    "# Downsampling\n",
    "typicalNDict = {0.0: 738, 1.0: 738, 2.0: 738}\n",
    " \n",
    "def typicalsamling(group, typicalNDict):\n",
    "    name = group.name\n",
    "    n = typicalNDict[name]\n",
    "    return group.sample(n=n, replace=True, random_state=0)\n",
    "\n",
    "result = df_train.groupby('Target').apply(typicalsamling, typicalNDict)\n",
    "print(result.head())\n"
   ]
  },
  {
   "cell_type": "code",
   "execution_count": 163,
   "metadata": {},
   "outputs": [
    {
     "name": "stdout",
     "output_type": "stream",
     "text": [
      "X_train (2214, 4)\n",
      "y_train (2214,)\n",
      "X_val (730, 4)\n",
      "y_val (730,)\n",
      "X_test (5677, 4)\n",
      "y_test (5677,)\n"
     ]
    }
   ],
   "source": [
    "X_train = result[['Feature1', 'Feature2', 'Feature3', 'Feature4']].to_numpy()\n",
    "y_train = result[['Target']].to_numpy().ravel()\n",
    "y_train = np.int32(y_train)\n",
    "\n",
    "X_val = df_val[['Feature1', 'Feature2', 'Feature3', 'Feature4']].to_numpy()\n",
    "y_val = df_val[['Target']].to_numpy().ravel()\n",
    "y_val = np.int32(y_val)\n",
    "\n",
    "X_test = df_test[['Feature1', 'Feature2', 'Feature3', 'Feature4']].to_numpy()\n",
    "y_test = df_test[['Target']].to_numpy().ravel()\n",
    "y_test = np.int32(y_test)\n",
    "\n",
    "print(\"X_train\", X_train.shape)\n",
    "print(\"y_train\", y_train.shape)\n",
    "print(\"X_val\",  X_val.shape)\n",
    "print(\"y_val\",  y_val.shape)\n",
    "print(\"X_test\",  X_test.shape)\n",
    "print(\"y_test\",  y_test.shape)"
   ]
  },
  {
   "cell_type": "code",
   "execution_count": 164,
   "metadata": {},
   "outputs": [],
   "source": [
    "x_train_norm = (X_train - np.min(X_train)) / (np.max(X_train) - np.min(X_train))\n",
    "x_train_std = (X_train - np.average(X_train)) / (np.std(X_train))\n",
    "\n",
    "x_val_norm = (X_val - np.min(X_val)) / (np.max(X_val) - np.min(X_val))\n",
    "x_val_std = (X_val - np.average(X_val)) / (np.std(X_val))\n",
    "\n",
    "x_test_norm = (X_test - np.min(X_test)) / (np.max(X_test) - np.min(X_test))\n",
    "x_test_std = (X_test - np.average(X_test)) / (np.std(X_test))"
   ]
  },
  {
   "cell_type": "code",
   "execution_count": 165,
   "metadata": {
    "id": "p9vEErR9Bf_a"
   },
   "outputs": [
    {
     "data": {
      "text/plain": [
       "<__main__.MultiClassLogisticRegression at 0x7f5f98e5b650>"
      ]
     },
     "execution_count": 165,
     "metadata": {},
     "output_type": "execute_result"
    }
   ],
   "source": [
    "# Train your model here\n",
    "\n",
    "lr = 0.5\n",
    "batch_size = 1\n",
    "epoch = 60000\n",
    "\n",
    "model = MultiClassLogisticRegression()\n",
    "model.fit(x_train_norm, y_train, lr=lr, batch_size=batch_size, epochs=epoch)"
   ]
  },
  {
   "cell_type": "code",
   "execution_count": 166,
   "metadata": {},
   "outputs": [
    {
     "name": "stdout",
     "output_type": "stream",
     "text": [
      "Training acc:  0.8934056007226739\n"
     ]
    }
   ],
   "source": [
    "print('Training acc: ', model.evaluate(x_train_norm, y_train))"
   ]
  },
  {
   "cell_type": "code",
   "execution_count": 167,
   "metadata": {},
   "outputs": [
    {
     "name": "stdout",
     "output_type": "stream",
     "text": [
      "Validation acc:  0.9\n"
     ]
    }
   ],
   "source": [
    "print('Validation acc: ', model.evaluate(x_val_norm, y_val))  # lr=0.5, epoch=60000 -> 0.9(X_train)"
   ]
  },
  {
   "cell_type": "code",
   "execution_count": 168,
   "metadata": {},
   "outputs": [
    {
     "data": {
      "image/png": "[encoded data removed]",
      "text/plain": [
       "<Figure size 640x480 with 1 Axes>"
      ]
     },
     "metadata": {},
     "output_type": "display_data"
    }
   ],
   "source": [
    "model.plot_curve()"
   ]
  },
  {
   "cell_type": "code",
   "execution_count": 169,
   "metadata": {},
   "outputs": [
    {
     "data": {
      "text/plain": [
       "array([[281.,   3.,  45.],\n",
       "       [  0., 144.,   6.],\n",
       "       [ 14.,   5., 232.]])"
      ]
     },
     "execution_count": 169,
     "metadata": {},
     "output_type": "execute_result"
    }
   ],
   "source": [
    "model.show_confusion_matrix(x_val_norm, y_val)"
   ]
  },
  {
   "cell_type": "code",
   "execution_count": 170,
   "metadata": {
    "id": "68NrvUPsBsy8"
   },
   "outputs": [
    {
     "name": "stdout",
     "output_type": "stream",
     "text": [
      "test_pred shape:  (5677,)\n"
     ]
    }
   ],
   "source": [
    "test_pred = model.predict(x_test_norm)\n",
    "print(\"test_pred shape: \", test_pred.shape)"
   ]
  },
  {
   "cell_type": "markdown",
   "metadata": {
    "id": "LBTMFtdlB55p"
   },
   "source": [
    "# Output the csv file"
   ]
  },
  {
   "cell_type": "code",
   "execution_count": 171,
   "metadata": {
    "id": "C2OL-EI2B3ja"
   },
   "outputs": [],
   "source": [
    "# For Q13\n",
    "df_test = pd.DataFrame(pd.read_csv(\"./PR_HW2_test.csv\"))\n",
    "df_test[\"Target\"] = test_pred\n",
    "df_test.to_csv(\"311553009_prediction.csv\")"
   ]
  },
  {
   "cell_type": "code",
   "execution_count": null,
   "metadata": {},
   "outputs": [],
   "source": []
  }
 ],
 "metadata": {
  "colab": {
   "provenance": []
  },
  "kernelspec": {
   "display_name": "Python 3",
   "language": "python",
   "name": "python3"
  },
  "language_info": {
   "codemirror_mode": {
    "name": "ipython",
    "version": 3
   },
   "file_extension": ".py",
   "mimetype": "text/x-python",
   "name": "python",
   "nbconvert_exporter": "python",
   "pygments_lexer": "ipython3",
   "version": "3.5.5"
  },
  "vscode": {
   "interpreter": {
    "hash": "ed6d6c6d46db02dda09fe4ed5cace764011a516a3313eb9b770f26e0f7dd73d9"
   }
  }
 },
 "nbformat": 4,
 "nbformat_minor": 1
}
