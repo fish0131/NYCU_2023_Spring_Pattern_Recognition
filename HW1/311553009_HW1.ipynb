{
 "cells": [
  {
   "cell_type": "code",
   "execution_count": 1,
   "metadata": {
    "id": "2UCHEgmFnm56"
   },
   "outputs": [],
   "source": [
    "import numpy as np\n",
    "import pandas as pd\n",
    "import matplotlib.pyplot as plt "
   ]
  },
  {
   "cell_type": "code",
   "execution_count": 2,
   "metadata": {
    "id": "TsewcLvXnm5_"
   },
   "outputs": [],
   "source": [
    "# TODO\n",
    "# Implement the linear regression using gradient descent by only numpy\n",
    "\n",
    "class LinearRegression:\n",
    "    \n",
    "    def __init__(self):\n",
    "        \n",
    "        print(\"Don't cheat.\")\n",
    "        self.epoch = []\n",
    "        self.train_loss = []\n",
    "        self.weights = None\n",
    "\n",
    "    def fit(self, X, y, lr, epochs, batch_size=1):\n",
    "        \n",
    "        self.X = X\n",
    "        self.y = y\n",
    "        \n",
    "        self.rows, self.cols = X.shape\n",
    "        \n",
    "        # Initialize weight and bias\n",
    "        self.w = np.zeros(self.cols)\n",
    "        self.b = 0\n",
    "        \n",
    "        for epoch in range(epochs):\n",
    "\n",
    "            for batch in range(len(X)//batch_size):\n",
    "                                \n",
    "                y_pred = self.predict(X)\n",
    "                \n",
    "                # Implementing the gradient descent\n",
    "                # compute the gradients of weight & bias\n",
    "                dw = (1 / self.rows) * np.dot(X.T, y_pred - y)\n",
    "                db = (1 / self.rows) * np.sum(y_pred - y)\n",
    "                \n",
    "                # update parameters\n",
    "                self.w = self.w - lr * dw\n",
    "                self.b = self.b - lr * db\n",
    "            \n",
    "            self.epoch.append(epoch)\n",
    "            self.train_loss.append(self.get_loss(X, y))\n",
    "            \n",
    "        self.weights = self.w, self.b\n",
    "\n",
    "    def get_loss(self, X, y):\n",
    "        y_pred = self.predict(X)\n",
    "        mse = np.mean((y_pred - y) ** 2)\n",
    "        return mse\n",
    "\n",
    "    def predict(self, X):\n",
    "        return np.dot(X, self.w) + self.b\n",
    "                \n",
    "    def evaluate(self, X, y):\n",
    "        y_pred = self.predict(X)\n",
    "        mse_loss = np.mean((y_pred - y) ** 2)\n",
    "        return mse_loss\n",
    "        \n",
    "    def plot_curve(self):\n",
    "        # self.epoch and self.train_loss may be helpful here. \n",
    "        \n",
    "        plt.plot(self.epoch, self.train_loss, color = 'blue', linewidth = '1')\n",
    "        \n",
    "        plt.xlabel('epoch')\n",
    "        plt.ylabel('MSE')\n",
    "        plt.title('MSE Loss')\n",
    "        plt.show()"
   ]
  },
  {
   "cell_type": "markdown",
   "metadata": {
    "id": "vE0LqmRdnm6B"
   },
   "source": [
    "# Load data & data pre-processing"
   ]
  },
  {
   "cell_type": "code",
   "execution_count": 3,
   "metadata": {
    "id": "nS5JuNtvnm6C"
   },
   "outputs": [],
   "source": [
    "df_train = pd.DataFrame(pd.read_csv(\"./regression_train.csv\"))\n",
    "df_val   = pd.DataFrame(pd.read_csv(\"./regression_val.csv\"))\n",
    "df_test  = pd.DataFrame(pd.read_csv(\"./regression_test.csv\"))"
   ]
  },
  {
   "cell_type": "code",
   "execution_count": 4,
   "metadata": {
    "id": "8ZxnlaLdnm6C"
   },
   "outputs": [
    {
     "data": {
      "text/html": [
       "<div>\n",
       "<style scoped>\n",
       "    .dataframe tbody tr th:only-of-type {\n",
       "        vertical-align: middle;\n",
       "    }\n",
       "\n",
       "    .dataframe tbody tr th {\n",
       "        vertical-align: top;\n",
       "    }\n",
       "\n",
       "    .dataframe thead th {\n",
       "        text-align: right;\n",
       "    }\n",
       "</style>\n",
       "<table border=\"1\" class=\"dataframe\">\n",
       "  <thead>\n",
       "    <tr style=\"text-align: right;\">\n",
       "      <th></th>\n",
       "      <th>age</th>\n",
       "      <th>sex</th>\n",
       "      <th>bmi</th>\n",
       "      <th>children</th>\n",
       "      <th>smoker</th>\n",
       "      <th>region</th>\n",
       "      <th>charges</th>\n",
       "    </tr>\n",
       "  </thead>\n",
       "  <tbody>\n",
       "    <tr>\n",
       "      <th>0</th>\n",
       "      <td>19</td>\n",
       "      <td>female</td>\n",
       "      <td>27.900</td>\n",
       "      <td>0</td>\n",
       "      <td>yes</td>\n",
       "      <td>southwest</td>\n",
       "      <td>16884.92400</td>\n",
       "    </tr>\n",
       "    <tr>\n",
       "      <th>1</th>\n",
       "      <td>18</td>\n",
       "      <td>male</td>\n",
       "      <td>33.770</td>\n",
       "      <td>1</td>\n",
       "      <td>no</td>\n",
       "      <td>southeast</td>\n",
       "      <td>1725.55230</td>\n",
       "    </tr>\n",
       "    <tr>\n",
       "      <th>2</th>\n",
       "      <td>28</td>\n",
       "      <td>male</td>\n",
       "      <td>33.000</td>\n",
       "      <td>3</td>\n",
       "      <td>no</td>\n",
       "      <td>southeast</td>\n",
       "      <td>4449.46200</td>\n",
       "    </tr>\n",
       "    <tr>\n",
       "      <th>3</th>\n",
       "      <td>33</td>\n",
       "      <td>male</td>\n",
       "      <td>22.705</td>\n",
       "      <td>0</td>\n",
       "      <td>no</td>\n",
       "      <td>northwest</td>\n",
       "      <td>21984.47061</td>\n",
       "    </tr>\n",
       "    <tr>\n",
       "      <th>4</th>\n",
       "      <td>32</td>\n",
       "      <td>male</td>\n",
       "      <td>28.880</td>\n",
       "      <td>0</td>\n",
       "      <td>no</td>\n",
       "      <td>northwest</td>\n",
       "      <td>3866.85520</td>\n",
       "    </tr>\n",
       "  </tbody>\n",
       "</table>\n",
       "</div>"
      ],
      "text/plain": [
       "   age     sex     bmi  children smoker     region      charges\n",
       "0   19  female  27.900         0    yes  southwest  16884.92400\n",
       "1   18    male  33.770         1     no  southeast   1725.55230\n",
       "2   28    male  33.000         3     no  southeast   4449.46200\n",
       "3   33    male  22.705         0     no  northwest  21984.47061\n",
       "4   32    male  28.880         0     no  northwest   3866.85520"
      ]
     },
     "execution_count": 4,
     "metadata": {},
     "output_type": "execute_result"
    }
   ],
   "source": [
    "df_train.head()"
   ]
  },
  {
   "cell_type": "code",
   "execution_count": 5,
   "metadata": {
    "id": "CKxM6OJSnm6D"
   },
   "outputs": [
    {
     "data": {
      "text/html": [
       "<div>\n",
       "<style scoped>\n",
       "    .dataframe tbody tr th:only-of-type {\n",
       "        vertical-align: middle;\n",
       "    }\n",
       "\n",
       "    .dataframe tbody tr th {\n",
       "        vertical-align: top;\n",
       "    }\n",
       "\n",
       "    .dataframe thead th {\n",
       "        text-align: right;\n",
       "    }\n",
       "</style>\n",
       "<table border=\"1\" class=\"dataframe\">\n",
       "  <thead>\n",
       "    <tr style=\"text-align: right;\">\n",
       "      <th></th>\n",
       "      <th>age</th>\n",
       "      <th>sex</th>\n",
       "      <th>bmi</th>\n",
       "      <th>children</th>\n",
       "      <th>smoker</th>\n",
       "      <th>region</th>\n",
       "      <th>charges</th>\n",
       "    </tr>\n",
       "  </thead>\n",
       "  <tbody>\n",
       "    <tr>\n",
       "      <th>0</th>\n",
       "      <td>33</td>\n",
       "      <td>male</td>\n",
       "      <td>30.25</td>\n",
       "      <td>0</td>\n",
       "      <td>no</td>\n",
       "      <td>southeast</td>\n",
       "      <td>NaN</td>\n",
       "    </tr>\n",
       "    <tr>\n",
       "      <th>1</th>\n",
       "      <td>19</td>\n",
       "      <td>female</td>\n",
       "      <td>32.49</td>\n",
       "      <td>0</td>\n",
       "      <td>yes</td>\n",
       "      <td>northwest</td>\n",
       "      <td>NaN</td>\n",
       "    </tr>\n",
       "    <tr>\n",
       "      <th>2</th>\n",
       "      <td>50</td>\n",
       "      <td>male</td>\n",
       "      <td>37.07</td>\n",
       "      <td>1</td>\n",
       "      <td>no</td>\n",
       "      <td>southeast</td>\n",
       "      <td>NaN</td>\n",
       "    </tr>\n",
       "    <tr>\n",
       "      <th>3</th>\n",
       "      <td>41</td>\n",
       "      <td>female</td>\n",
       "      <td>32.60</td>\n",
       "      <td>3</td>\n",
       "      <td>no</td>\n",
       "      <td>southwest</td>\n",
       "      <td>NaN</td>\n",
       "    </tr>\n",
       "    <tr>\n",
       "      <th>4</th>\n",
       "      <td>52</td>\n",
       "      <td>female</td>\n",
       "      <td>24.86</td>\n",
       "      <td>0</td>\n",
       "      <td>no</td>\n",
       "      <td>southeast</td>\n",
       "      <td>NaN</td>\n",
       "    </tr>\n",
       "  </tbody>\n",
       "</table>\n",
       "</div>"
      ],
      "text/plain": [
       "   age     sex    bmi  children smoker     region  charges\n",
       "0   33    male  30.25         0     no  southeast      NaN\n",
       "1   19  female  32.49         0    yes  northwest      NaN\n",
       "2   50    male  37.07         1     no  southeast      NaN\n",
       "3   41  female  32.60         3     no  southwest      NaN\n",
       "4   52  female  24.86         0     no  southeast      NaN"
      ]
     },
     "execution_count": 5,
     "metadata": {},
     "output_type": "execute_result"
    }
   ],
   "source": [
    "df_test.head()"
   ]
  },
  {
   "cell_type": "code",
   "execution_count": 6,
   "metadata": {
    "id": "C2VQYttZohkx"
   },
   "outputs": [
    {
     "name": "stdout",
     "output_type": "stream",
     "text": [
      "<class 'pandas.core.frame.DataFrame'>\n",
      "RangeIndex: 938 entries, 0 to 937\n",
      "Data columns (total 7 columns):\n",
      "age         938 non-null int64\n",
      "sex         938 non-null object\n",
      "bmi         938 non-null float64\n",
      "children    938 non-null int64\n",
      "smoker      938 non-null object\n",
      "region      938 non-null object\n",
      "charges     938 non-null float64\n",
      "dtypes: float64(2), int64(2), object(3)\n",
      "memory usage: 51.4+ KB\n"
     ]
    }
   ],
   "source": [
    "df_train.info()"
   ]
  },
  {
   "cell_type": "code",
   "execution_count": 7,
   "metadata": {
    "id": "9wO-wPLypbzB"
   },
   "outputs": [],
   "source": [
    "# TODO\n",
    "# You may do the labelEncoder here\n",
    "\n",
    "#### For multiple features, please use the following settings.####\n",
    "# sex.female -> 0\n",
    "# sex.male -> 1\n",
    "\n",
    "# smoker.no -> 0\n",
    "# smoker.yes -> 1\n",
    "\n",
    "# region.northeast -> 0\n",
    "# region.northwest -> 1\n",
    "# region.southeast -> 2\n",
    "# region.southwest -> 3\n",
    "##################################################################\n",
    "\n",
    "\n",
    "# You may try different label encoding for training your own model\n",
    "\n",
    "df_train.sex.replace(('female', 'male'),(0, 1), inplace=True)\n",
    "df_train.smoker.replace(('no', 'yes'),(0, 1), inplace=True)\n",
    "df_train.region.replace(('northeast', 'northwest', 'southeast', 'southwest'),(0, 1, 2, 3), inplace=True)\n",
    "\n",
    "df_val.sex.replace(('female', 'male'),(0, 1), inplace=True)\n",
    "df_val.smoker.replace(('no', 'yes'),(0, 1), inplace=True)\n",
    "df_val.region.replace(('northeast', 'northwest', 'southeast', 'southwest'),(0, 1, 2, 3), inplace=True)\n",
    "\n",
    "df_test.sex.replace(('female', 'male'),(0, 1), inplace=True)\n",
    "df_test.smoker.replace(('no', 'yes'),(0, 1), inplace=True)\n",
    "df_test.region.replace(('northeast', 'northwest', 'southeast', 'southwest'),(0, 1, 2, 3), inplace=True)"
   ]
  },
  {
   "cell_type": "markdown",
   "metadata": {
    "id": "OJj42I-0nm6F"
   },
   "source": [
    "# Single feature (using bmi)"
   ]
  },
  {
   "cell_type": "code",
   "execution_count": 8,
   "metadata": {
    "id": "yedo6qY3nm6F"
   },
   "outputs": [],
   "source": [
    "# Do not modify here\n",
    "\n",
    "x_train = df_train.drop(['charges'], axis=1)\n",
    "y_train = df_train['charges']\n",
    "x_train = x_train[['bmi']]\n",
    "\n",
    "x_val = df_val.drop(['charges'], axis=1)\n",
    "y_val = df_val['charges']\n",
    "x_val = x_val[['bmi']]\n",
    "\n",
    "x_test = df_test.drop(['charges'], axis=1)\n",
    "x_test = x_test[['bmi']]"
   ]
  },
  {
   "cell_type": "code",
   "execution_count": 9,
   "metadata": {
    "id": "ObKo4RachwJ_"
   },
   "outputs": [],
   "source": [
    "# TODO\n",
    "# You may convert data to NumPy here \n",
    "x_train = x_train.to_numpy()\n",
    "y_train = y_train.to_numpy()\n",
    "\n",
    "x_val = x_val.to_numpy()\n",
    "y_val = y_val.to_numpy()\n",
    "\n",
    "x_test = x_test.to_numpy()"
   ]
  },
  {
   "cell_type": "code",
   "execution_count": 10,
   "metadata": {
    "id": "0ir1zYhBnm6H"
   },
   "outputs": [
    {
     "name": "stdout",
     "output_type": "stream",
     "text": [
      "Don't cheat.\n"
     ]
    }
   ],
   "source": [
    "batch_size = x_train.shape[0]\n",
    "\n",
    "# TODO\n",
    "# Tune the parameters\n",
    "# Refer to slide page 9\n",
    "\n",
    "lr = 0.002\n",
    "epochs = 150000 \n",
    "\n",
    "linear_reg = LinearRegression()\n",
    "linear_reg.fit(x_train, y_train, lr=lr, epochs=epochs, batch_size=batch_size)"
   ]
  },
  {
   "cell_type": "code",
   "execution_count": 11,
   "metadata": {},
   "outputs": [
    {
     "name": "stdout",
     "output_type": "stream",
     "text": [
      "Intercepts:  1382.5127744340296\n",
      "Weights:  (array([380.13540589]),)\n"
     ]
    }
   ],
   "source": [
    "print(\"Intercepts: \", linear_reg.weights[-1])\n",
    "print(\"Weights: \", linear_reg.weights[:-1])"
   ]
  },
  {
   "cell_type": "code",
   "execution_count": 12,
   "metadata": {
    "id": "gMtpEVnlnm6I"
   },
   "outputs": [
    {
     "name": "stdout",
     "output_type": "stream",
     "text": [
      "training loss:  139562065.48344946\n"
     ]
    }
   ],
   "source": [
    "print('training loss: ', linear_reg.evaluate(x_train, y_train))"
   ]
  },
  {
   "cell_type": "code",
   "execution_count": 13,
   "metadata": {
    "id": "xQ42eFmxoujI"
   },
   "outputs": [
    {
     "name": "stdout",
     "output_type": "stream",
     "text": [
      "validation loss:  136920281.01434046\n"
     ]
    }
   ],
   "source": [
    "print('validation loss: ', linear_reg.evaluate(x_val, y_val))"
   ]
  },
  {
   "cell_type": "code",
   "execution_count": 14,
   "metadata": {
    "id": "2aNyL15ynm6I"
   },
   "outputs": [],
   "source": [
    "test_pred = linear_reg.predict(x_test)"
   ]
  },
  {
   "cell_type": "code",
   "execution_count": 15,
   "metadata": {},
   "outputs": [
    {
     "data": {
      "image/png": "[encoded data removed]",
      "text/plain": [
       "<Figure size 432x288 with 1 Axes>"
      ]
     },
     "metadata": {},
     "output_type": "display_data"
    }
   ],
   "source": [
    "linear_reg.plot_curve()"
   ]
  },
  {
   "cell_type": "code",
   "execution_count": 16,
   "metadata": {
    "id": "SIusBE_dnm6J"
   },
   "outputs": [
    {
     "data": {
      "image/png": "[encoded data removed]",
      "text/plain": [
       "<Figure size 432x288 with 1 Axes>"
      ]
     },
     "metadata": {},
     "output_type": "display_data"
    }
   ],
   "source": [
    "# Use matplotlib to plot the predicted line with the training and validation samples\n",
    "\n",
    "# TODO\n",
    "\n",
    "plt.scatter(x_train, y_train, s=5, c='purple', label=\"Training samples\")\n",
    "plt.scatter(x_val, y_val, s=5, c='orange', label=\"Validation samples\")\n",
    "plt.plot(x_test, test_pred, color=\"red\", linewidth=1, label=\"Linear model\")\n",
    "\n",
    "plt.xlabel('BMI')\n",
    "plt.ylabel('Charges')\n",
    "\n",
    "plt.title('Charges vs BMI')\n",
    "plt.legend()\n",
    "plt.show()"
   ]
  },
  {
   "cell_type": "markdown",
   "metadata": {
    "id": "el3_fUSVnm6K"
   },
   "source": [
    "# Multiple features"
   ]
  },
  {
   "cell_type": "code",
   "execution_count": 17,
   "metadata": {
    "id": "hzijeACjnm6L"
   },
   "outputs": [],
   "source": [
    "# Do not modify here\n",
    "\n",
    "x_train = df_train.drop(['charges'], axis=1)\n",
    "y_train = df_train['charges']\n",
    "\n",
    "x_val = df_val.drop(['charges'], axis=1)\n",
    "y_val = df_val['charges']\n",
    "\n",
    "x_test = df_test.drop(['charges'], axis=1)"
   ]
  },
  {
   "cell_type": "code",
   "execution_count": 18,
   "metadata": {
    "id": "vz4Qn8Umh9Gm"
   },
   "outputs": [],
   "source": [
    "# TODO\n",
    "# You may convert data to NumPy here \n",
    "x_train = x_train.to_numpy()\n",
    "y_train = y_train.to_numpy()\n",
    "\n",
    "x_val = x_val.to_numpy()\n",
    "y_val = y_val.to_numpy()\n",
    "\n",
    "x_test = x_test.to_numpy()"
   ]
  },
  {
   "cell_type": "code",
   "execution_count": 19,
   "metadata": {
    "id": "Ek8YAFolnm6M"
   },
   "outputs": [
    {
     "name": "stdout",
     "output_type": "stream",
     "text": [
      "Don't cheat.\n"
     ]
    }
   ],
   "source": [
    "batch_size = x_train.shape[0]\n",
    "\n",
    "# TODO\n",
    "# Tune the parameters\n",
    "# Refer to slide page 10\n",
    "lr = 0.0007\n",
    "epochs = 650000\n",
    "\n",
    "linear_reg = LinearRegression()\n",
    "linear_reg.fit(x_train, y_train, lr=lr, epochs=epochs, batch_size=batch_size)"
   ]
  },
  {
   "cell_type": "code",
   "execution_count": 20,
   "metadata": {
    "id": "77bKB1JKnm6M"
   },
   "outputs": [
    {
     "name": "stdout",
     "output_type": "stream",
     "text": [
      "Intercepts:  -11857.028298598665\n",
      "Weights:  (array([  259.85072835,  -383.5471172 ,   333.3318584 ,   442.55699937,\n",
      "       24032.21979141,  -416.01494403]),)\n"
     ]
    }
   ],
   "source": [
    "print(\"Intercepts: \", linear_reg.weights[-1])\n",
    "print(\"Weights: \", linear_reg.weights[:-1])"
   ]
  },
  {
   "cell_type": "code",
   "execution_count": 21,
   "metadata": {
    "id": "v3bZe5XVnm6N"
   },
   "outputs": [
    {
     "name": "stdout",
     "output_type": "stream",
     "text": [
      "training loss:  34697170.25354349\n"
     ]
    }
   ],
   "source": [
    "print('training loss: ', linear_reg.evaluate(x_train, y_train))"
   ]
  },
  {
   "cell_type": "code",
   "execution_count": 22,
   "metadata": {
    "id": "MgnD2yXVo-67"
   },
   "outputs": [
    {
     "name": "stdout",
     "output_type": "stream",
     "text": [
      "validation loss:  41958563.652706645\n"
     ]
    }
   ],
   "source": [
    "print('validation loss: ', linear_reg.evaluate(x_val, y_val))"
   ]
  },
  {
   "cell_type": "code",
   "execution_count": 23,
   "metadata": {
    "id": "L1dVgl2unm6N"
   },
   "outputs": [],
   "source": [
    "test_pred = linear_reg.predict(x_test)"
   ]
  },
  {
   "cell_type": "code",
   "execution_count": 24,
   "metadata": {
    "id": "Js0IK_Blnm6O"
   },
   "outputs": [
    {
     "data": {
      "image/png": "[encoded data removed]",
      "text/plain": [
       "<Figure size 432x288 with 1 Axes>"
      ]
     },
     "metadata": {},
     "output_type": "display_data"
    }
   ],
   "source": [
    "linear_reg.plot_curve()"
   ]
  },
  {
   "cell_type": "markdown",
   "metadata": {
    "id": "mcyR-WJzxRsw"
   },
   "source": [
    "# Train your own model and predict for testing data."
   ]
  },
  {
   "cell_type": "code",
   "execution_count": 25,
   "metadata": {},
   "outputs": [
    {
     "name": "stdout",
     "output_type": "stream",
     "text": [
      "Correlation Matrix is : \n",
      "               age       sex       bmi  children    smoker    region   charges\n",
      "age       1.000000 -0.053253  0.105642  0.033802 -0.004509 -0.006884  0.324213\n",
      "sex      -0.053253  1.000000  0.015213  0.023992  0.068751 -0.002937  0.025908\n",
      "bmi       0.105642  0.015213  1.000000  0.025009 -0.005701  0.141745  0.189973\n",
      "children  0.033802  0.023992  0.025009  1.000000 -0.012050  0.000552  0.048509\n",
      "smoker   -0.004509  0.068751 -0.005701 -0.012050  1.000000 -0.012810  0.789616\n",
      "region   -0.006884 -0.002937  0.141745  0.000552 -0.012810  1.000000 -0.026971\n",
      "charges   0.324213  0.025908  0.189973  0.048509  0.789616 -0.026971  1.000000\n"
     ]
    }
   ],
   "source": [
    "matrix = df_train.corr()\n",
    "\n",
    "print(\"Correlation Matrix is : \")\n",
    "print(matrix)"
   ]
  },
  {
   "cell_type": "code",
   "execution_count": 26,
   "metadata": {},
   "outputs": [],
   "source": [
    "x_train = df_train.drop(['charges', 'region', 'sex'], axis=1)\n",
    "y_train = df_train['charges']\n",
    "\n",
    "x_val = df_val.drop(['charges', 'region', 'sex'], axis=1)\n",
    "y_val = df_val['charges']\n",
    "\n",
    "x_test = df_test.drop(['charges', 'region', 'sex'], axis=1)"
   ]
  },
  {
   "cell_type": "code",
   "execution_count": 27,
   "metadata": {},
   "outputs": [],
   "source": [
    "x_train = x_train.to_numpy()\n",
    "y_train = y_train.to_numpy()\n",
    "\n",
    "x_val = x_val.to_numpy()\n",
    "y_val = y_val.to_numpy()\n",
    "\n",
    "x_test = x_test.to_numpy()"
   ]
  },
  {
   "cell_type": "markdown",
   "metadata": {},
   "source": [
    "Standardization"
   ]
  },
  {
   "cell_type": "code",
   "execution_count": 28,
   "metadata": {},
   "outputs": [],
   "source": [
    "x_train_std = (x_train - np.average(x_train)) / (np.std(x_train))\n",
    "x_val_std = (x_val - np.average(x_val)) / (np.std(x_val))\n",
    "x_test_std = (x_test - np.average(x_test)) / (np.std(x_test))"
   ]
  },
  {
   "cell_type": "markdown",
   "metadata": {},
   "source": [
    "Normalization"
   ]
  },
  {
   "cell_type": "code",
   "execution_count": 29,
   "metadata": {},
   "outputs": [],
   "source": [
    "x_train_norm = (x_train - np.min(x_train)) / (np.max(x_train) - np.min(x_train))\n",
    "x_val_norm = (x_val - np.min(x_val)) / (np.max(x_val) - np.min(x_val))\n",
    "x_test_norm = (x_test - np.min(x_test)) / (np.max(x_test) - np.min(x_test))"
   ]
  },
  {
   "cell_type": "code",
   "execution_count": 30,
   "metadata": {},
   "outputs": [
    {
     "name": "stdout",
     "output_type": "stream",
     "text": [
      "(938, 4)\n"
     ]
    }
   ],
   "source": [
    "print(x_train.shape)"
   ]
  },
  {
   "cell_type": "code",
   "execution_count": 38,
   "metadata": {},
   "outputs": [
    {
     "name": "stdout",
     "output_type": "stream",
     "text": [
      "Don't cheat.\n"
     ]
    }
   ],
   "source": [
    "batch_size = 4\n",
    "\n",
    "lr = 0.8\n",
    "epochs = 4000\n",
    "\n",
    "linear_reg = LinearRegression()\n",
    "linear_reg.fit(x_train_norm, y_train, lr=lr, epochs=epochs, batch_size=batch_size)"
   ]
  },
  {
   "cell_type": "code",
   "execution_count": 39,
   "metadata": {},
   "outputs": [
    {
     "name": "stdout",
     "output_type": "stream",
     "text": [
      "Intercepts:  -12373.975397120324\n",
      "Weights:  (array([  16724.54209958,   20582.63215799,   28115.03228944,\n",
      "       1536833.45226046]),)\n"
     ]
    }
   ],
   "source": [
    "print(\"Intercepts: \", linear_reg.weights[-1])\n",
    "print(\"Weights: \", linear_reg.weights[:-1])"
   ]
  },
  {
   "cell_type": "code",
   "execution_count": 40,
   "metadata": {},
   "outputs": [
    {
     "name": "stdout",
     "output_type": "stream",
     "text": [
      "training loss:  34941489.1228193\n"
     ]
    }
   ],
   "source": [
    "print('training loss: ', linear_reg.evaluate(x_train_norm, y_train)) "
   ]
  },
  {
   "cell_type": "code",
   "execution_count": 41,
   "metadata": {},
   "outputs": [
    {
     "name": "stdout",
     "output_type": "stream",
     "text": [
      "validation loss:  42300235.90100111\n"
     ]
    }
   ],
   "source": [
    "print('validation loss: ', linear_reg.evaluate(x_val_norm, y_val)) "
   ]
  },
  {
   "cell_type": "code",
   "execution_count": 42,
   "metadata": {},
   "outputs": [
    {
     "data": {
      "image/png": "[encoded data removed]",
      "text/plain": [
       "<Figure size 432x288 with 1 Axes>"
      ]
     },
     "metadata": {},
     "output_type": "display_data"
    }
   ],
   "source": [
    "linear_reg.plot_curve()"
   ]
  },
  {
   "cell_type": "markdown",
   "metadata": {},
   "source": [
    "Evaluate model for testing data"
   ]
  },
  {
   "cell_type": "code",
   "execution_count": 43,
   "metadata": {
    "id": "x-Q1nUG6xZfM"
   },
   "outputs": [
    {
     "name": "stdout",
     "output_type": "stream",
     "text": [
      "test_pred shape:  (200,)\n"
     ]
    }
   ],
   "source": [
    "test_pred = linear_reg.predict(x_test_norm)\n",
    "print(\"test_pred shape: \", test_pred.shape)\n",
    "assert test_pred.shape == (200, )"
   ]
  },
  {
   "cell_type": "markdown",
   "metadata": {
    "id": "QCeukZcenm6O"
   },
   "source": [
    "# Output the csv file"
   ]
  },
  {
   "cell_type": "code",
   "execution_count": 44,
   "metadata": {
    "id": "SEN7NUgmnm6O"
   },
   "outputs": [],
   "source": [
    "df_test = pd.DataFrame(pd.read_csv(\"./regression_test.csv\"))\n",
    "df_test[\"charges\"] = test_pred\n",
    "df_test.to_csv(\"311553009_prediction.csv\")"
   ]
  },
  {
   "cell_type": "code",
   "execution_count": null,
   "metadata": {},
   "outputs": [],
   "source": []
  }
 ],
 "metadata": {
  "colab": {
   "provenance": []
  },
  "kernelspec": {
   "display_name": "Python 3",
   "language": "python",
   "name": "python3"
  },
  "language_info": {
   "codemirror_mode": {
    "name": "ipython",
    "version": 3
   },
   "file_extension": ".py",
   "mimetype": "text/x-python",
   "name": "python",
   "nbconvert_exporter": "python",
   "pygments_lexer": "ipython3",
   "version": "3.5.5"
  },
  "vscode": {
   "interpreter": {
    "hash": "31f2aee4e71d21fbe5cf8b01ff0e069b9275f58929596ceb00d14d90e3e16cd6"
   }
  }
 },
 "nbformat": 4,
 "nbformat_minor": 1
}
