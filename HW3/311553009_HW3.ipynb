{
 "cells": [
  {
   "cell_type": "code",
   "execution_count": 5,
   "metadata": {
    "id": "ZQD8NqPhKyBP"
   },
   "outputs": [],
   "source": [
    "import copy\n",
    "import random\n",
    "import pandas as pd\n",
    "import numpy as np\n",
    "import matplotlib.pyplot as plt\n",
    "from sklearn.metrics import accuracy_score # Please note that this is the only sklearn function that can be utilized."
   ]
  },
  {
   "cell_type": "markdown",
   "metadata": {
    "id": "YV1MHt_VTg9f"
   },
   "source": [
    "# Load data"
   ]
  },
  {
   "cell_type": "code",
   "execution_count": 6,
   "metadata": {
    "id": "a1vkTOD6K5Nj"
   },
   "outputs": [],
   "source": [
    "# Load the train/val/test dataset\n",
    "\n",
    "df_train = pd.DataFrame(pd.read_csv(\"./PR_HW3_Train.csv\"))\n",
    "df_val   = pd.DataFrame(pd.read_csv(\"./PR_HW3_Val.csv\"))\n",
    "df_test  = pd.DataFrame(pd.read_csv(\"./PR_HW3_Test.csv\"))\n",
    "\n",
    "X_train = df_train[['Feature1', 'Feature2', 'Feature3', 'Feature4', 'Feature5', 'Feature6', 'Feature7']].to_numpy()\n",
    "y_train = df_train[\"Target\"].to_numpy()\n",
    "\n",
    "X_val = df_val[['Feature1', 'Feature2', 'Feature3', 'Feature4', 'Feature5', 'Feature6', 'Feature7']].to_numpy()\n",
    "y_val = df_val[\"Target\"].to_numpy()\n",
    "\n",
    "X_test = df_test[['Feature1', 'Feature2', 'Feature3', 'Feature4', 'Feature5', 'Feature6', 'Feature7']].to_numpy()\n",
    "y_test = df_test[\"Target\"].to_numpy()"
   ]
  },
  {
   "cell_type": "code",
   "execution_count": 7,
   "metadata": {
    "id": "MJcktFIuK78Y"
   },
   "outputs": [
    {
     "name": "stdout",
     "output_type": "stream",
     "text": [
      "(800, 7)\n",
      "(800,)\n",
      "(800, 7)\n",
      "(800,)\n",
      "(800, 7)\n",
      "(800,)\n"
     ]
    }
   ],
   "source": [
    "print(X_train.shape)\n",
    "print(y_train.shape)\n",
    "print(X_val.shape)\n",
    "print(y_val.shape)\n",
    "print(X_test.shape)\n",
    "print(y_test.shape)"
   ]
  },
  {
   "cell_type": "markdown",
   "metadata": {
    "id": "wa3hnJ9sTkvh"
   },
   "source": [
    "# Model Implementation"
   ]
  },
  {
   "cell_type": "code",
   "execution_count": 8,
   "metadata": {
    "id": "5e_nviB8LAK8"
   },
   "outputs": [],
   "source": [
    "def gini(sequence):\n",
    "    _, counts = np.unique(sequence, return_counts=True)\n",
    "    return 1 - np.sum((counts / np.sum(counts))**2)\n",
    "\n",
    "def entropy(sequence):\n",
    "    _, counts = np.unique(sequence, return_counts=True)\n",
    "    return -np.sum((counts / np.sum(counts)) * np.log2(counts / np.sum(counts)))"
   ]
  },
  {
   "cell_type": "code",
   "execution_count": 9,
   "metadata": {
    "id": "_HJA_108LF_G"
   },
   "outputs": [],
   "source": [
    "class Tree():\n",
    "    \"\"\"\n",
    "        You can add/change any variables/methods to meet your need.\n",
    "    \"\"\"\n",
    "    def __init__(self, feature=None, threshold=None, value=None, left=None, right=None):\n",
    "        self.feature = feature\n",
    "        self.threshold = threshold\n",
    "        self.value = value\n",
    "        self.left = left\n",
    "        self.right = right"
   ]
  },
  {
   "cell_type": "code",
   "execution_count": 21,
   "metadata": {},
   "outputs": [],
   "source": [
    "class DecisionTree():\n",
    "    def __init__(self, criterion='gini', max_features=None, max_depth=None):\n",
    "        \"\"\"\n",
    "            You can add/change any variables/methods to meet your need.\n",
    "        \"\"\"\n",
    "\n",
    "        if criterion == 'gini':\n",
    "            self.criterion = gini\n",
    "        elif criterion == 'entropy':\n",
    "            self.criterion = entropy\n",
    "        \n",
    "        if max_depth is None:\n",
    "            self.max_depth = 1e9\n",
    "        else:\n",
    "            self.max_depth = max_depth\n",
    "        \n",
    "        self.max_features = max_features\n",
    "        self.root = None\n",
    "        \n",
    "        self.importance = {}\n",
    "    \n",
    "    def _build_tree(self, X, y, depth=0):\n",
    "        if depth == self.max_depth or len(y) == 0:\n",
    "            return Tree(value=np.bincount(y).argmax())\n",
    "\n",
    "        n_samples, n_features = X.shape\n",
    "        feature_idxs = np.random.choice(n_features, self.max_features, replace=False)\n",
    "\n",
    "        best_feature = None\n",
    "        best_threshold = None\n",
    "        best_score = np.inf\n",
    "\n",
    "        for feature_idx in feature_idxs:\n",
    "            thresholds, classes = zip(*sorted(zip(X[:, feature_idx], y)))\n",
    "            for i in range(1, n_samples):\n",
    "                if classes[i-1] != classes[i]:\n",
    "                    threshold = (thresholds[i-1] + thresholds[i]) / 2\n",
    "                    y_left = y[X[:, feature_idx] <= threshold]\n",
    "                    y_right = y[X[:, feature_idx] > threshold]\n",
    "                    score = (len(y_left) * self.criterion(y_left) + len(y_right) * self.criterion(y_right)) / n_samples\n",
    "                    if score < best_score:\n",
    "                        best_feature = feature_idx\n",
    "                        best_threshold = threshold\n",
    "                        best_score = score\n",
    "\n",
    "        if best_feature is None:\n",
    "            return Tree(value=np.bincount(y).argmax())\n",
    "\n",
    "        X_left, y_left = X[X[:, best_feature] <= best_threshold], y[X[:, best_feature] <= best_threshold]\n",
    "        X_right, y_right = X[X[:, best_feature] > best_threshold], y[X[:, best_feature] > best_threshold]\n",
    "\n",
    "        left = self._build_tree(X_left, y_left, depth+1)\n",
    "        right = self._build_tree(X_right, y_right, depth+1)\n",
    "\n",
    "        return Tree(best_feature, best_threshold, left=left, right=right)\n",
    "\n",
    "    def fit(self, X, y):\n",
    "        \n",
    "        y = y.astype(int)\n",
    "        n_samples, n_features = X.shape\n",
    "\n",
    "        if self.max_features is None:\n",
    "            self.max_features = n_features\n",
    "\n",
    "        self.tree_ = self._build_tree(X, y, depth=0)\n",
    "        \n",
    "         # Calculate feature importance\n",
    "        self.countImportance(X, y)\n",
    "\n",
    "        return self\n",
    "\n",
    "    def predict(self, X, y=None):\n",
    "        y_pred = []\n",
    "        for sample in X:\n",
    "            node = self.tree_\n",
    "            while node.left:\n",
    "                if sample[node.feature] <= node.threshold:\n",
    "                    node = node.left\n",
    "                else:\n",
    "                    node = node.right\n",
    "            y_pred.append(node.value)\n",
    "        return np.array(y_pred)\n",
    "\n",
    "    def countImportance(self, X, y):\n",
    "        total_samples = len(y)\n",
    "\n",
    "        # Calculate impurity before the split\n",
    "        if self.criterion == gini:\n",
    "            parent_impurity = gini(y)\n",
    "        elif self.criterion == entropy:\n",
    "            parent_impurity = entropy(y)\n",
    "\n",
    "        for feature in range(X.shape[1]):\n",
    "            # Count how many samples there are for each feature value\n",
    "            feature_counts = {}\n",
    "            for i in range(len(X)):\n",
    "                if X[i][feature] not in feature_counts:\n",
    "                    feature_counts[X[i][feature]] = 0\n",
    "                feature_counts[X[i][feature]] += 1\n",
    "\n",
    "            # Calculate the weighted impurity of the split on this feature\n",
    "            weighted_impurity = 0\n",
    "            for feature_value, count in feature_counts.items():\n",
    "                indices = np.where(X[:, feature] == feature_value)[0]\n",
    "                feature_impurity = self.criterion(y[indices])\n",
    "                weighted_impurity += (count / total_samples) * feature_impurity\n",
    "\n",
    "            # Calculate the feature importance as the reduction in impurity\n",
    "            self.importance[feature] = parent_impurity - weighted_impurity"
   ]
  },
  {
   "cell_type": "code",
   "execution_count": 101,
   "metadata": {
    "id": "BE8wu0MGN_H-"
   },
   "outputs": [],
   "source": [
    "class RandomForest():\n",
    "    def __init__(self, n_estimators=10, max_features=None, boostrap=True, criterion='gini', max_depth=None):\n",
    "        self.n_estimators = n_estimators\n",
    "        self.max_features = max_features\n",
    "        self.boostrap = boostrap\n",
    "        self.criterion = criterion\n",
    "        self.max_depth = max_depth\n",
    "        \n",
    "        self.trees = []\n",
    "        for i in range(self.n_estimators):\n",
    "            self.trees.append(DecisionTree(criterion=self.criterion, max_depth=self.max_depth, max_features=self.max_features))\n",
    "    \n",
    "    def fit(self, X, y):\n",
    "        if self.boostrap:\n",
    "            bootstrap_size = len(X)\n",
    "        else:\n",
    "            bootstrap_size = None\n",
    "        \n",
    "        for tree in self.trees:\n",
    "            bootstrap_indices = [random.randint(0, len(X)-1) for i in range(bootstrap_size)]\n",
    "            bootstrap_X = X[bootstrap_indices]\n",
    "            bootstrap_y = y[bootstrap_indices]\n",
    "            tree.fit(bootstrap_X, bootstrap_y)\n",
    "            \n",
    "    def predict(self, X):\n",
    "        predictions = []\n",
    "        for x in X:\n",
    "            tree_predictions = []\n",
    "            for tree in self.trees:\n",
    "                tree_predictions.append(tree.predict([x])[0])\n",
    "            predictions.append(max(set(tree_predictions), key=tree_predictions.count))\n",
    "        return predictions"
   ]
  },
  {
   "cell_type": "markdown",
   "metadata": {
    "id": "RPUsaCh2T9Fs"
   },
   "source": [
    "# Questions for Decision Tree"
   ]
  },
  {
   "cell_type": "code",
   "execution_count": 11,
   "metadata": {
    "id": "zSB-Uqp4OaaX"
   },
   "outputs": [
    {
     "name": "stdout",
     "output_type": "stream",
     "text": [
      "['+' '+' '+' '+' '+' '-']: entropy = 0.6500224216483541\n",
      "['+' '+' '+' '-' '-' '-']: entropy = 1.0\n",
      "['+' '-' '-' '-' '-' '-']: entropy = 0.6500224216483541\n",
      "\n",
      "['+' '+' '+' '+' '+' '-']: gini index = 0.2777777777777777\n",
      "['+' '+' '+' '-' '-' '-']: gini index = 0.5\n",
      "['+' '-' '-' '-' '-' '-']: gini index = 0.2777777777777777\n",
      "\n"
     ]
    }
   ],
   "source": [
    "# For Q1\n",
    "ex1 = np.array([\"+\", \"+\", \"+\", \"+\", \"+\", \"-\"])\n",
    "ex2 = np.array([\"+\", \"+\", \"+\", \"-\", \"-\", \"-\"])\n",
    "ex3 = np.array([\"+\" ,\"-\", \"-\", \"-\", \"-\", \"-\"])\n",
    "\n",
    "print(\"{}: entropy = {}\\n{}: entropy = {}\\n{}: entropy = {}\\n\".format(ex1, entropy(ex1), ex2, entropy(ex2), ex3, entropy(ex3)))\n",
    "print(\"{}: gini index = {}\\n{}: gini index = {}\\n{}: gini index = {}\\n\".format(ex1, gini(ex1), ex2, gini(ex2), ex3, gini(ex3)))"
   ]
  },
  {
   "cell_type": "code",
   "execution_count": 22,
   "metadata": {
    "id": "G_t9N9fnOdon"
   },
   "outputs": [
    {
     "name": "stdout",
     "output_type": "stream",
     "text": [
      "Q2-1 max_depth=3:  0.73125\n"
     ]
    }
   ],
   "source": [
    "# For Q2-1, validation accuracy should be higher than or equal to 0.73\n",
    "\n",
    "np.random.seed(0) # You may adjust the seed number in all the cells\n",
    "\n",
    "dt_depth3 = DecisionTree(criterion='gini', max_features=None, max_depth=3)\n",
    "dt_depth3.fit(X_train, y_train)\n",
    "\n",
    "acc = accuracy_score(y_val, dt_depth3.predict(X_val))\n",
    "\n",
    "print(\"Q2-1 max_depth=3: \", acc)"
   ]
  },
  {
   "cell_type": "code",
   "execution_count": 23,
   "metadata": {
    "id": "T0HcgzMdjHRP"
   },
   "outputs": [],
   "source": [
    "\"\"\" Do Not Modify Below \"\"\"\n",
    "\n",
    "from sklearn.tree import DecisionTreeClassifier as SK_DecisionTreeClassifier\n",
    "\n",
    "sk_dt = SK_DecisionTreeClassifier(criterion='gini', max_depth=3)\n",
    "sk_dt.fit(X_train, y_train)\n",
    "sk_acc = accuracy_score(y_val, sk_dt.predict(X_val))\n",
    "\n",
    "assert round(acc, 3) == round(sk_acc, 3), \"Because the Decision Tree without any trick has a fixed answer, your accuracy should be the same as sklearn, otherwise your implementation might have some problems\""
   ]
  },
  {
   "cell_type": "code",
   "execution_count": 24,
   "metadata": {
    "id": "SjCPMr-eQ7jn"
   },
   "outputs": [
    {
     "name": "stdout",
     "output_type": "stream",
     "text": [
      "Q2-2 max_depth=10:  0.865\n"
     ]
    }
   ],
   "source": [
    "# For Q2-2, validation accuracy should be higher than or equal to 0.85\n",
    "\n",
    "np.random.seed(0)\n",
    "\n",
    "dt_depth10 = DecisionTree(criterion='gini', max_features=None, max_depth=10)\n",
    "dt_depth10.fit(X_train, y_train)\n",
    "\n",
    "print(\"Q2-2 max_depth=10: \", accuracy_score(y_val, dt_depth10.predict(X_val)))"
   ]
  },
  {
   "cell_type": "code",
   "execution_count": 25,
   "metadata": {
    "id": "iTbxGPrbO2jT"
   },
   "outputs": [
    {
     "name": "stdout",
     "output_type": "stream",
     "text": [
      "Q3-1 criterion='gini':  0.73125\n"
     ]
    }
   ],
   "source": [
    "# For Q3-1, validation accuracy should be higher than or equal to 0.73\n",
    "\n",
    "np.random.seed(0)\n",
    "\n",
    "dt_gini = DecisionTree(criterion='gini', max_features=None, max_depth=3)\n",
    "dt_gini.fit(X_train, y_train)\n",
    "\n",
    "print(\"Q3-1 criterion='gini': \", accuracy_score(y_val, dt_gini.predict(X_val)))\n"
   ]
  },
  {
   "cell_type": "code",
   "execution_count": 26,
   "metadata": {
    "id": "1XG7eAKUQ-YU"
   },
   "outputs": [
    {
     "name": "stdout",
     "output_type": "stream",
     "text": [
      "Q3-2 criterion='entropy':  0.77\n"
     ]
    }
   ],
   "source": [
    "# For Q3-2, validation accuracy should be higher than or equal to 0.77\n",
    "\n",
    "np.random.seed(0)\n",
    "\n",
    "dt_entropy = DecisionTree(criterion='entropy', max_features=None, max_depth=3)\n",
    "dt_entropy.fit(X_train, y_train)\n",
    "\n",
    "print(\"Q3-2 criterion='entropy': \", accuracy_score(y_val, dt_entropy.predict(X_val)))"
   ]
  },
  {
   "cell_type": "code",
   "execution_count": 55,
   "metadata": {},
   "outputs": [
    {
     "data": {
      "image/png": "[encoded data removed]",
      "text/plain": [
       "<Figure size 864x432 with 1 Axes>"
      ]
     },
     "metadata": {},
     "output_type": "display_data"
    }
   ],
   "source": [
    "# For Q4\n",
    "\n",
    "# Use simply counting to get the feature importance: dt_depth10.importance\n",
    "\n",
    "labelList=['Feature1', 'Feature2', 'Feature3', 'Feature4', 'Feature5', 'Feature6', 'Feature7']\n",
    "\n",
    "fi = dt_depth10.importance\n",
    "sorted_idx = np.argsort(fi)\n",
    "pos = np.arange(sorted_idx.shape[0]) + 0.5\n",
    "fig = plt.figure(figsize=(12, 6))\n",
    "plt.subplot(1, 2, 1)\n",
    "plt.barh(pos, fi[sorted_idx], align=\"center\")\n",
    "plt.yticks(pos, np.array(labelList)[sorted_idx])\n",
    "plt.title(\"Feature Importance\")\n",
    "\n",
    "plt.show()"
   ]
  },
  {
   "cell_type": "markdown",
   "metadata": {
    "id": "Wg97qz_xUGfP"
   },
   "source": [
    "# Questions for Random Forest"
   ]
  },
  {
   "cell_type": "code",
   "execution_count": 92,
   "metadata": {
    "id": "SlrdIW1ERJ8F"
   },
   "outputs": [
    {
     "name": "stdout",
     "output_type": "stream",
     "text": [
      "Q6-1 n_estimators=10:  0.8875\n"
     ]
    }
   ],
   "source": [
    "# For Q6-1, validation accuracy should be higher than or equal to 0.88\n",
    "\n",
    "np.random.seed(100)\n",
    "\n",
    "rf_estimators10 = RandomForest(n_estimators=10, max_features=np.sqrt(X_train.shape[1]), boostrap=True, criterion='gini', max_depth=None)\n",
    "rf_estimators10.fit(X_train, y_train)\n",
    "\n",
    "print(\"Q6-1 n_estimators=10: \", accuracy_score(y_val, rf_estimators10.predict(X_val)))"
   ]
  },
  {
   "cell_type": "code",
   "execution_count": 121,
   "metadata": {
    "id": "4qcLuIkbRUfM"
   },
   "outputs": [
    {
     "name": "stdout",
     "output_type": "stream",
     "text": [
      "Q6-1 n_estimators=50:  0.8925\n"
     ]
    }
   ],
   "source": [
    "# For Q6-2, validation accuracy should be higher than or equal to 0.89\n",
    "\n",
    "np.random.seed(50)\n",
    "\n",
    "rf_estimators50 = RandomForest(n_estimators=50, max_features=np.sqrt(X_train.shape[1]), boostrap=True, criterion='gini', max_depth=None)\n",
    "rf_estimators50.fit(X_train, y_train)\n",
    "\n",
    "print(\"Q6-1 n_estimators=50: \", accuracy_score(y_val, rf_estimators50.predict(X_val)))"
   ]
  },
  {
   "cell_type": "code",
   "execution_count": 117,
   "metadata": {
    "id": "n-DbniYhRYmM"
   },
   "outputs": [
    {
     "name": "stdout",
     "output_type": "stream",
     "text": [
      "Q7-1 max_features='sqrt':  0.89125\n"
     ]
    }
   ],
   "source": [
    "# For Q7-1, validation accuracy should be higher than or equal to 0.88\n",
    "\n",
    "np.random.seed(42)\n",
    "\n",
    "rf_maxfeature_sqrt = RandomForest(n_estimators=10, max_features=np.sqrt(X_train.shape[1]), boostrap=True, criterion='gini', max_depth=None)\n",
    "rf_maxfeature_sqrt.fit(X_train, y_train)\n",
    "\n",
    "print(\"Q7-1 max_features='sqrt': \", accuracy_score(y_val,  rf_maxfeature_sqrt.predict(X_val)))"
   ]
  },
  {
   "cell_type": "code",
   "execution_count": 118,
   "metadata": {
    "id": "PF9yufSaRffn"
   },
   "outputs": [
    {
     "name": "stdout",
     "output_type": "stream",
     "text": [
      "Q7-1 max_features='All':  0.87375\n"
     ]
    }
   ],
   "source": [
    "# For Q7-2, validation accuracy should be higher than or equal to 0.86\n",
    "\n",
    "np.random.seed(0)\n",
    "\n",
    "rf_maxfeature_none = RandomForest(n_estimators=10, max_features=None, boostrap=True, criterion='gini', max_depth=None)\n",
    "rf_maxfeature_none.fit(X_train, y_train)\n",
    "\n",
    "print(\"Q7-1 max_features='All': \", accuracy_score(y_val, rf_maxfeature_none.predict(X_val)))"
   ]
  },
  {
   "cell_type": "markdown",
   "metadata": {
    "id": "UjopdAZqUKbF"
   },
   "source": [
    "# Train your own model"
   ]
  },
  {
   "cell_type": "code",
   "execution_count": 158,
   "metadata": {},
   "outputs": [],
   "source": [
    "# Load the train/val/test dataset\n",
    "\n",
    "df_train = pd.DataFrame(pd.read_csv(\"./PR_HW3_Train.csv\"))\n",
    "df_val   = pd.DataFrame(pd.read_csv(\"./PR_HW3_Val.csv\"))\n",
    "df_test  = pd.DataFrame(pd.read_csv(\"./PR_HW3_Test.csv\"))"
   ]
  },
  {
   "cell_type": "code",
   "execution_count": 166,
   "metadata": {},
   "outputs": [],
   "source": [
    "X_train = df_train[['Feature1', 'Feature2', 'Feature3', 'Feature4', 'Feature5', 'Feature6', 'Feature7']].to_numpy()\n",
    "y_train = df_train[\"Target\"].to_numpy()\n",
    "\n",
    "X_val = df_val[['Feature1', 'Feature2', 'Feature3', 'Feature4', 'Feature5', 'Feature6', 'Feature7']].to_numpy()\n",
    "y_val = df_val[\"Target\"].to_numpy()\n",
    "\n",
    "X_test = df_test[['Feature1', 'Feature2', 'Feature3', 'Feature4', 'Feature5', 'Feature6', 'Feature7']].to_numpy()\n",
    "y_test = df_test[\"Target\"].to_numpy()"
   ]
  },
  {
   "cell_type": "markdown",
   "metadata": {},
   "source": [
    "Build your model"
   ]
  },
  {
   "cell_type": "code",
   "execution_count": 175,
   "metadata": {
    "id": "Va4L29gfUPO8"
   },
   "outputs": [],
   "source": [
    "class DecisionTree():\n",
    "    def __init__(self, criterion='gini', max_features=None, max_depth=None):\n",
    "        \"\"\"\n",
    "            You can add/change any variables/methods to meet your need.\n",
    "        \"\"\"\n",
    "\n",
    "        if criterion == 'gini':\n",
    "            self.criterion = gini\n",
    "        elif criterion == 'entropy':\n",
    "            self.criterion = entropy\n",
    "        \n",
    "        if max_depth is None:\n",
    "            self.max_depth = 1e9\n",
    "        else:\n",
    "            self.max_depth = max_depth\n",
    "        \n",
    "        self.max_features = max_features\n",
    "        self.root = None\n",
    "        \n",
    "        self.importance = {}\n",
    "    \n",
    "    def _build_tree(self, X, y, depth=0):\n",
    "        n_samples, n_features = X.shape\n",
    "\n",
    "        # Check if stopping criteria are met\n",
    "        if depth >= self.max_depth or len(np.unique(y)) == 1 or n_samples == 0:\n",
    "            return Node(value=np.mean(y))\n",
    "\n",
    "        # Choose the best feature to split on\n",
    "        best_feature, best_threshold = self._get_best_split(X, y)\n",
    "\n",
    "        # Split the data\n",
    "        left_indices = np.where(X[:, best_feature] <= best_threshold)[0]\n",
    "        right_indices = np.where(X[:, best_feature] > best_threshold)[0]\n",
    "\n",
    "        # Check if splitting the data resulted in an empty left or right branch\n",
    "        if len(left_indices) == 0 or len(right_indices) == 0:\n",
    "            return Node(value=np.mean(y))\n",
    "\n",
    "        # Recursively build the left and right subtrees\n",
    "        left = self._build_tree(X[left_indices, :], y[left_indices], depth=depth+1)\n",
    "        right = self._build_tree(X[right_indices, :], y[right_indices], depth=depth+1)\n",
    "\n",
    "        # Create a new node with the best feature and threshold\n",
    "        return Node(feature=best_feature, threshold=best_threshold, left=left, right=right)\n",
    "    \n",
    "    def _get_best_split(self, X, y):\n",
    "        best_feature, best_threshold, best_impurity = None, None, 1e9\n",
    "\n",
    "        # Randomly select a subset of features to consider for splitting\n",
    "        features = np.random.choice(X.shape[1], size=self.max_features, replace=False)\n",
    "\n",
    "        # Loop through each feature and each possible threshold value to find the best split\n",
    "        for feature in features:\n",
    "            thresholds = np.unique(X[:, feature])\n",
    "            for threshold in thresholds:\n",
    "                # Split the data on this feature and threshold\n",
    "                left_indices = np.where(X[:, feature] <= threshold)[0]\n",
    "                right_indices = np.where(X[:, feature] > threshold)[0]\n",
    "\n",
    "                # Calculate the impurity of the split using the chosen criterion\n",
    "                if self.criterion == gini:\n",
    "                    impurity = (len(left_indices) / len(y)) * gini(y[left_indices]) \\\n",
    "                               + (len(right_indices) / len(y)) * gini(y[right_indices])\n",
    "                elif self.criterion == entropy:\n",
    "                    impurity = (len(left_indices) / len(y)) * entropy(y[left_indices]) \\\n",
    "                               + (len(right_indices) / len(y)) * entropy(y[right_indices])\n",
    "\n",
    "                # If this is the best split seen so far, update the best feature and threshold\n",
    "                if impurity < best_impurity:\n",
    "                    best_feature = feature\n",
    "                    best_threshold = threshold\n",
    "                    best_impurity = impurity\n",
    "\n",
    "        return best_feature, best_threshold\n",
    "\n",
    "    def _traverse_tree(self, x, node):\n",
    "        if node.value is not None:\n",
    "            return node.value\n",
    "\n",
    "        if x[node.feature] <= node.threshold:\n",
    "            return self._traverse_tree(x, node.left)\n",
    "        else:\n",
    "            return self._traverse_tree(x, node.right)\n",
    "\n",
    "    def fit(self, X, y):\n",
    "        n_samples, n_features = X.shape\n",
    "        if self.max_features is None:\n",
    "            self.max_features = n_features\n",
    "\n",
    "        # Build the tree\n",
    "        self.root = self._build_tree(X, y)\n",
    "        \n",
    "        # Calculate feature importance\n",
    "        self.countImportance(X, y)\n",
    "\n",
    "    def predict(self, X, y=None):\n",
    "        return np.array([self._traverse_tree(x, self.root) for x in X])\n",
    "\n",
    "    def countImportance(self, X, y):\n",
    "        total_samples = len(y)\n",
    "\n",
    "        # Calculate impurity before the split\n",
    "        if self.criterion == gini:\n",
    "            parent_impurity = gini(y)\n",
    "        elif self.criterion == entropy:\n",
    "            parent_impurity = entropy(y)\n",
    "\n",
    "        for feature in range(X.shape[1]):\n",
    "            # Count how many samples there are for each feature value\n",
    "            feature_counts = {}\n",
    "            for i in range(len(X)):\n",
    "                if X[i][feature] not in feature_counts:\n",
    "                    feature_counts[X[i][feature]] = 0\n",
    "                feature_counts[X[i][feature]] += 1\n",
    "\n",
    "            # Calculate the weighted impurity of the split on this feature\n",
    "            weighted_impurity = 0\n",
    "            for feature_value, count in feature_counts.items():\n",
    "                indices = np.where(X[:, feature] == feature_value)[0]\n",
    "                feature_impurity = self.criterion(y[indices])\n",
    "                weighted_impurity += (count / total_samples) * feature_impurity\n",
    "\n",
    "            # Calculate the feature importance as the reduction in impurity\n",
    "            self.importance[feature] = parent_impurity - weighted_impurity"
   ]
  },
  {
   "cell_type": "code",
   "execution_count": 176,
   "metadata": {},
   "outputs": [],
   "source": [
    "class RandomForest():\n",
    "    def __init__(self, n_estimators=10, max_features=None, boostrap=True, criterion='gini', max_depth=None):\n",
    "        self.n_estimators = n_estimators\n",
    "        self.max_features = max_features\n",
    "        self.boostrap = boostrap\n",
    "        self.criterion = criterion\n",
    "        self.max_depth = max_depth\n",
    "        \n",
    "        self.trees = []\n",
    "        for i in range(self.n_estimators):\n",
    "            self.trees.append(DecisionTree(criterion=self.criterion, max_depth=self.max_depth, max_features=self.max_features))\n",
    "    \n",
    "    def fit(self, X, y):\n",
    "        if self.boostrap:\n",
    "            bootstrap_size = len(X)\n",
    "        else:\n",
    "            bootstrap_size = None\n",
    "        \n",
    "        for tree in self.trees:\n",
    "            bootstrap_indices = [random.randint(0, len(X)-1) for i in range(bootstrap_size)]\n",
    "            bootstrap_X = X[bootstrap_indices]\n",
    "            bootstrap_y = y[bootstrap_indices]\n",
    "            tree.fit(bootstrap_X, bootstrap_y)\n",
    "            \n",
    "    def predict(self, X):\n",
    "        predictions = []\n",
    "        for x in X:\n",
    "            tree_predictions = []\n",
    "            for tree in self.trees:\n",
    "                tree_predictions.append(tree.predict([x])[0])\n",
    "            predictions.append(max(set(tree_predictions), key=tree_predictions.count))\n",
    "        return predictions"
   ]
  },
  {
   "cell_type": "markdown",
   "metadata": {},
   "source": [
    "Train your model"
   ]
  },
  {
   "cell_type": "code",
   "execution_count": 252,
   "metadata": {},
   "outputs": [
    {
     "name": "stdout",
     "output_type": "stream",
     "text": [
      "Accuracy of my model for validation data:  0.89875\n"
     ]
    }
   ],
   "source": [
    "np.random.seed(0)\n",
    "\n",
    "your_model = RandomForest(n_estimators=20, max_features=np.sqrt(X_train.shape[1]), boostrap=True, criterion='entropy', max_depth=None)\n",
    "your_model.fit(X_train, y_train)\n",
    "\n",
    "print(\"Accuracy of my model for validation data: \", accuracy_score(y_val, your_model.predict(X_val)))"
   ]
  },
  {
   "cell_type": "code",
   "execution_count": 253,
   "metadata": {
    "id": "5cmxQjK3Rja9"
   },
   "outputs": [
    {
     "name": "stdout",
     "output_type": "stream",
     "text": [
      "test_pred shape:  (800,)\n"
     ]
    }
   ],
   "source": [
    "test_pred = your_model.predict(X_test)\n",
    "\n",
    "print(\"test_pred shape: \", np.array(test_pred).shape)"
   ]
  },
  {
   "cell_type": "code",
   "execution_count": 254,
   "metadata": {
    "id": "XCaZ4yFuR34B"
   },
   "outputs": [],
   "source": [
    "# output csv\n",
    "df_test = pd.DataFrame(pd.read_csv(\"./PR_HW3_Test.csv\"))\n",
    "df_test[\"Target\"] = test_pred\n",
    "df_test.to_csv(\"311553009_prediction.csv\")"
   ]
  },
  {
   "cell_type": "code",
   "execution_count": null,
   "metadata": {},
   "outputs": [],
   "source": []
  }
 ],
 "metadata": {
  "colab": {
   "collapsed_sections": [
    "YV1MHt_VTg9f"
   ],
   "provenance": []
  },
  "kernelspec": {
   "display_name": "Python 3",
   "language": "python",
   "name": "python3"
  },
  "language_info": {
   "codemirror_mode": {
    "name": "ipython",
    "version": 3
   },
   "file_extension": ".py",
   "mimetype": "text/x-python",
   "name": "python",
   "nbconvert_exporter": "python",
   "pygments_lexer": "ipython3",
   "version": "3.5.5"
  }
 },
 "nbformat": 4,
 "nbformat_minor": 1
}
