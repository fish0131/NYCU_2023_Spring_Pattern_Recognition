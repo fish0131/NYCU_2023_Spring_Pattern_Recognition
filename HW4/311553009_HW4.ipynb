{
 "cells": [
  {
   "cell_type": "code",
   "execution_count": 1,
   "metadata": {
    "id": "Z0yGksgOp91i"
   },
   "outputs": [],
   "source": [
    "import numpy as np\n",
    "import pandas as pd\n",
    "import seaborn as sns\n",
    "import matplotlib.pyplot as plt\n",
    "from sklearn.svm import SVC, SVR\n",
    "from sklearn.metrics import accuracy_score"
   ]
  },
  {
   "cell_type": "code",
   "execution_count": 2,
   "metadata": {
    "id": "7ZYQFbA0qMZ-"
   },
   "outputs": [],
   "source": [
    "# Load data\n",
    "x_train = np.load(\"x_train.npy\")\n",
    "y_train = np.load(\"y_train.npy\")\n",
    "x_test = np.load(\"x_test.npy\")\n",
    "y_test = np.load(\"y_test.npy\")"
   ]
  },
  {
   "cell_type": "code",
   "execution_count": 3,
   "metadata": {
    "colab": {
     "base_uri": "https://localhost:8080/"
    },
    "id": "u0ewnfh6qOoM",
    "outputId": "d3773b37-9eb0-4497-ac22-b4b929d0ced6"
   },
   "outputs": [
    {
     "name": "stdout",
     "output_type": "stream",
     "text": [
      "(7000, 300)\n",
      "(7000,)\n",
      "(3000, 300)\n"
     ]
    }
   ],
   "source": [
    "# 7000 data with 300 features\n",
    "print(x_train.shape)\n",
    "print(y_train.shape)\n",
    "print(x_test.shape)"
   ]
  },
  {
   "cell_type": "code",
   "execution_count": 4,
   "metadata": {
    "colab": {
     "base_uri": "https://localhost:8080/"
    },
    "id": "ryZdU0fdqTkb",
    "outputId": "6b8fa0b1-b488-4c3d-b120-b5e0a1db26d9"
   },
   "outputs": [
    {
     "name": "stdout",
     "output_type": "stream",
     "text": [
      "[0 1]\n"
     ]
    }
   ],
   "source": [
    "# It's a binary classification problem \n",
    "print(np.unique(y_train))"
   ]
  },
  {
   "cell_type": "markdown",
   "metadata": {
    "id": "qy1aMJ7sqwwg"
   },
   "source": [
    "# Q1"
   ]
  },
  {
   "cell_type": "code",
   "execution_count": 5,
   "metadata": {
    "id": "TI26_jRbqVX3"
   },
   "outputs": [],
   "source": [
    "def cross_validation(x_train, y_train, k=5, shuffle=True):\n",
    "    \n",
    "    # Do not modify the function name and always take 'x_train, y_train, k' as the inputs.\n",
    "    # TODO HERE\n",
    "    \n",
    "    indices = np.arange(len(x_train))\n",
    "    if shuffle :\n",
    "        np.random.seed(42)\n",
    "        np.random.shuffle(indices)\n",
    "        \n",
    "    fold_size = len(x_train) // k\n",
    "\n",
    "    kfold_data = []\n",
    "\n",
    "    for i in range(k):\n",
    "        val_indices = indices[i*fold_size:(i+1)*fold_size]\n",
    "        train_indices = np.concatenate([indices[:i*fold_size], indices[(i+1)*fold_size:]])\n",
    "\n",
    "        kfold_data.append((train_indices, val_indices))\n",
    "    \n",
    "    kfold_data = np.array(kfold_data)\n",
    "\n",
    "    return kfold_data"
   ]
  },
  {
   "cell_type": "code",
   "execution_count": 6,
   "metadata": {
    "id": "7jTma6saqf3E"
   },
   "outputs": [],
   "source": [
    "kfold_data = cross_validation(x_train, y_train, k=10)\n",
    "assert len(kfold_data) == 10 # should contain 10 fold of data\n",
    "assert len(kfold_data[0]) == 2 # each element should contain train fold and validation fold\n",
    "assert kfold_data[0][1].shape[0] == 700 # The number of data in each validation fold should equal to training data divieded by K"
   ]
  },
  {
   "cell_type": "markdown",
   "metadata": {
    "id": "IccJcpN_q0Z0"
   },
   "source": [
    "# K-Fold Example"
   ]
  },
  {
   "cell_type": "code",
   "execution_count": 7,
   "metadata": {
    "id": "O_zT2TAzqjay"
   },
   "outputs": [
    {
     "name": "stdout",
     "output_type": "stream",
     "text": [
      "Split: 1, Training index: [ 1  3  4  5  6  7  9 10 11 12 13 14 15 16 18 19], Validation index: [ 0  2  8 17]\n",
      "Split: 2, Training index: [ 0  1  2  3  4  5  7  8  9 11 12 13 15 17 18 19], Validation index: [ 6 10 14 16]\n",
      "Split: 3, Training index: [ 0  2  3  6  7  8  9 10 11 12 14 15 16 17 18 19], Validation index: [ 1  4  5 13]\n",
      "Split: 4, Training index: [ 0  1  2  3  4  5  6  7  8 10 13 14 15 16 17 19], Validation index: [ 9 11 12 18]\n",
      "Split: 5, Training index: [ 0  1  2  4  5  6  8  9 10 11 12 13 14 16 17 18], Validation index: [ 3  7 15 19]\n"
     ]
    }
   ],
   "source": [
    "from sklearn.model_selection import KFold\n",
    "\n",
    "X = np.arange(20)\n",
    "\n",
    "kf = KFold(n_splits=5, shuffle=True)\n",
    "kfold_data= []\n",
    "for i, (train_index, val_index) in enumerate(kf.split(X)):\n",
    "    print(\"Split: %s, Training index: %s, Validation index: %s\" % (i+1, train_index, val_index))\n",
    "    kfold_data.append([train_index, val_index])"
   ]
  },
  {
   "cell_type": "code",
   "execution_count": 8,
   "metadata": {
    "id": "lYCTmie5qnow"
   },
   "outputs": [],
   "source": [
    "assert len(kfold_data) == 5 # should contain 5 fold of data\n",
    "assert len(kfold_data[0]) == 2 # each element should contains index of training fold and validation fold\n",
    "assert kfold_data[0][1].shape[0] == 4 # The number of data in each validation fold should equal to training data divieded by K"
   ]
  },
  {
   "cell_type": "markdown",
   "metadata": {
    "id": "Gh-DQiNiq5v0"
   },
   "source": [
    "## Q2"
   ]
  },
  {
   "cell_type": "code",
   "execution_count": 9,
   "metadata": {
    "id": "31V1fW7Qq6la"
   },
   "outputs": [],
   "source": [
    "# (Example) Using SVC from sklearn\n",
    "\n",
    "clf = SVC(C=1.0, gamma=0.01, kernel='rbf', class_weight='balanced')"
   ]
  },
  {
   "cell_type": "code",
   "execution_count": 11,
   "metadata": {},
   "outputs": [],
   "source": [
    "x_train = (x_train - np.average(x_train)) / (np.std(x_train))\n",
    "x_test = (x_test - np.average(x_test)) / (np.std(x_test))"
   ]
  },
  {
   "cell_type": "code",
   "execution_count": 12,
   "metadata": {
    "id": "VzBT0t6Yq_Dj"
   },
   "outputs": [
    {
     "name": "stdout",
     "output_type": "stream",
     "text": [
      "0.01 0.001 0.5032857142857143\n",
      "0.01 0.01 0.5032857142857143\n",
      "0.01 0.1 0.5032857142857143\n",
      "0.01 1 0.5032857142857143\n",
      "0.01 10 0.5032857142857143\n",
      "0.01 100 0.5032857142857143\n",
      "0.1 0.001 0.9397142857142857\n",
      "0.1 0.01 0.5018571428571429\n",
      "0.1 0.1 0.5018571428571429\n",
      "0.1 1 0.5018571428571429\n",
      "0.1 10 0.5018571428571429\n",
      "0.1 100 0.5018571428571429\n",
      "1 0.001 0.9731428571428571\n",
      "1 0.01 0.9848571428571429\n",
      "1 0.1 0.4967142857142857\n",
      "1 1 0.4967142857142857\n",
      "1 10 0.4967142857142857\n",
      "1 100 0.4967142857142857\n",
      "10 0.001 0.9887142857142857\n",
      "10 0.01 0.9854285714285714\n",
      "10 0.1 0.4967142857142857\n",
      "10 1 0.4967142857142857\n",
      "10 10 0.4967142857142857\n",
      "10 100 0.4967142857142857\n",
      "100 0.001 0.9880000000000001\n",
      "100 0.01 0.9854285714285714\n",
      "100 0.1 0.4967142857142857\n",
      "100 1 0.4967142857142857\n",
      "100 10 0.4967142857142857\n",
      "100 100 0.4967142857142857\n"
     ]
    }
   ],
   "source": [
    "best_c, best_gamma = None, None\n",
    "\n",
    "# TODO HERE\n",
    "# k-Flod Cross Validation and Grid Search\n",
    "\n",
    "def k_fold_cross_val_score(X, y, model, k=5):\n",
    "       \n",
    "    n_samples = X.shape[0]\n",
    "    fold_size = n_samples // k\n",
    "    \n",
    "    indices = np.arange(n_samples)\n",
    "    np.random.seed(0)\n",
    "    np.random.shuffle(indices)\n",
    "    \n",
    "    X = X[indices]\n",
    "    y = y[indices]\n",
    "    \n",
    "    scores = []\n",
    "    for i in range(k):\n",
    "        start, end = i*fold_size, (i+1)*fold_size\n",
    "        X_val, y_val = X[start:end], y[start:end]\n",
    "        X_train, y_train = np.concatenate([X[:start], X[end:]]), np.concatenate([y[:start], y[end:]])\n",
    "        model.fit(X_train, y_train)\n",
    "        y_pred = model.predict(X_val)\n",
    "        acc = accuracy_score(y_val, y_pred)\n",
    "        scores.append(acc)\n",
    "    \n",
    "    return np.mean(scores)\n",
    "\n",
    "# Define the hyperparameters and their possible values\n",
    "param_grid = {'C': [0.01, 0.1, 1, 10, 100], 'gamma': [0.001, 0.01, 0.1, 1, 10, 100]}\n",
    "k = 5\n",
    "best_score = -np.inf\n",
    "scores = np.zeros((len(param_grid['C']), len(param_grid['gamma'])))\n",
    "\n",
    "# Perform Grid Search to find the best hyperparameters and scores\n",
    "for i, c in enumerate(param_grid['C']):\n",
    "    for j, gamma in enumerate(param_grid['gamma']):\n",
    "        svm = SVC(C=c, gamma=gamma, kernel='rbf', class_weight='balanced')\n",
    "        score = k_fold_cross_val_score(x_train, y_train, svm, k=k)\n",
    "        print(c, gamma, score)\n",
    "        scores[i, j] = score\n",
    "        \n",
    "        if score > best_score:\n",
    "            best_c = c\n",
    "            best_gamma = gamma\n",
    "            best_score = score\n",
    "\n",
    "# Perform Grid Search to find the best hyperparameters\n",
    "# best_params, best_score, all_score = grid_search(x_train, y_train, clf, param_grid, k=5)\n",
    "\n",
    "# best_c, best_gamma = best_params['C'], best_params['gamma']\n",
    "\n",
    "best_parameters = (best_c, best_gamma)"
   ]
  },
  {
   "cell_type": "code",
   "execution_count": 13,
   "metadata": {
    "colab": {
     "base_uri": "https://localhost:8080/"
    },
    "id": "mGTyHMFgrAXd",
    "outputId": "0bcf7ac5-c479-4db5-8a9d-d00b083b9b42"
   },
   "outputs": [
    {
     "name": "stdout",
     "output_type": "stream",
     "text": [
      "(best_c, best_gamma) is  (10, 0.001)\n"
     ]
    }
   ],
   "source": [
    "print(\"(best_c, best_gamma) is \", best_parameters)"
   ]
  },
  {
   "cell_type": "markdown",
   "metadata": {
    "id": "KbPoOy0lrDPJ"
   },
   "source": [
    "# Q3"
   ]
  },
  {
   "cell_type": "code",
   "execution_count": 14,
   "metadata": {
    "id": "ibuxQOEQrEgJ"
   },
   "outputs": [
    {
     "data": {
      "image/png": "[encoded data removed]",
      "text/plain": [
       "<Figure size 432x288 with 2 Axes>"
      ]
     },
     "metadata": {},
     "output_type": "display_data"
    }
   ],
   "source": [
    "# Plot the grid search results of your SVM\n",
    "\n",
    "# TODO HERE\n",
    "# Plot the results as a heatmap\n",
    "\n",
    "sns.set()\n",
    "sns.heatmap(scores, annot=True, xticklabels=param_grid['gamma'], yticklabels=param_grid['C'], cmap='RdBu')\n",
    "plt.xlabel('Gamma Parameter')\n",
    "plt.ylabel('C Parameter')\n",
    "plt.title('Hyperparameter Gridsearch')\n",
    "plt.show()"
   ]
  },
  {
   "cell_type": "markdown",
   "metadata": {
    "id": "QVA-It-4rM9Q"
   },
   "source": [
    "## Q4"
   ]
  },
  {
   "cell_type": "code",
   "execution_count": 15,
   "metadata": {},
   "outputs": [
    {
     "name": "stdout",
     "output_type": "stream",
     "text": [
      "Accuracy score:  0.988\n"
     ]
    }
   ],
   "source": [
    "# Do Not Modify Below\n",
    "\n",
    "best_model = SVC(C=best_parameters[0], gamma=best_parameters[1], kernel='rbf')\n",
    "best_model.fit(x_train, y_train)\n",
    "\n",
    "y_pred = best_model.predict(x_test)\n",
    "\n",
    "print(\"Accuracy score: \", accuracy_score(y_pred, y_test))\n",
    "\n",
    "# If your accuracy here > 0.9 then you will get full credit (20 points)."
   ]
  },
  {
   "cell_type": "code",
   "execution_count": null,
   "metadata": {},
   "outputs": [],
   "source": []
  }
 ],
 "metadata": {
  "colab": {
   "provenance": []
  },
  "kernelspec": {
   "display_name": "Python 3",
   "language": "python",
   "name": "python3"
  },
  "language_info": {
   "codemirror_mode": {
    "name": "ipython",
    "version": 3
   },
   "file_extension": ".py",
   "mimetype": "text/x-python",
   "name": "python",
   "nbconvert_exporter": "python",
   "pygments_lexer": "ipython3",
   "version": "3.5.5"
  }
 },
 "nbformat": 4,
 "nbformat_minor": 1
}
